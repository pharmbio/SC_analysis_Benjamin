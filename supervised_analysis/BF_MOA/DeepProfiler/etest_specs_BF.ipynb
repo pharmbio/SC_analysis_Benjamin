{
 "cells": [
  {
   "cell_type": "code",
   "execution_count": null,
   "metadata": {},
   "outputs": [],
   "source": [
    "import scanpy as sc \n",
    "import anndata as ad\n",
    "import polars as pl\n",
    "import os\n",
    "import sys\n",
    "# Add the module_folder to the sys.path list\n",
    "sys.path.append('/home/jovyan/share/data/analyses/benjamin/Single_cell_project_rapids/analysis_functions/')\n",
    "from plotting import *"
   ]
  },
  {
   "cell_type": "code",
   "execution_count": null,
   "metadata": {},
   "outputs": [],
   "source": [
    "PROJECT_DIR = \"/home/jovyan/share/data/analyses/benjamin/Single_cell_project_rapids/SPECS\""
   ]
  },
  {
   "cell_type": "markdown",
   "metadata": {},
   "source": [
    "## E distance"
   ]
  },
  {
   "cell_type": "code",
   "execution_count": null,
   "metadata": {},
   "outputs": [],
   "source": [
    "from scperturb import *\n",
    "import pandas as pd"
   ]
  },
  {
   "cell_type": "code",
   "execution_count": null,
   "metadata": {},
   "outputs": [],
   "source": [
    "adata = ad.read(\"/home/jovyan/share/data/analyses/benjamin/cellxgene/SPECS/deepprofiler/moa/sc_embedding_BF_specs5k.h5ad\")"
   ]
  },
  {
   "cell_type": "code",
   "execution_count": null,
   "metadata": {},
   "outputs": [],
   "source": [
    "estats = edist(adata, obs_key='Metadata_cmpdName', obsm_key='X_pca', dist='sqeuclidean', n_jobs= -1)\n"
   ]
  },
  {
   "cell_type": "code",
   "execution_count": null,
   "metadata": {},
   "outputs": [],
   "source": [
    "estats.to_csv(\"edists_BF_compounds.csv\")"
   ]
  },
  {
   "cell_type": "code",
   "execution_count": null,
   "metadata": {},
   "outputs": [],
   "source": [
    "estats_moa = edist(adata_NO_CBK041211, obs_key='moa_broad', obsm_key='X_pca', dist='sqeuclidean', n_jobs= -1)\n"
   ]
  },
  {
   "cell_type": "code",
   "execution_count": null,
   "metadata": {},
   "outputs": [],
   "source": [
    "estats_NO_CBK041211 = edist(adata_NO_CBK041211, obs_key='Metadata_cmpdName', obsm_key='X_pca', dist='sqeuclidean', n_jobs= -1)"
   ]
  },
  {
   "cell_type": "code",
   "execution_count": null,
   "metadata": {},
   "outputs": [],
   "source": [
    "import matplotlib.pyplot as plt\n",
    "def e_dist_violin(estats, ctrl, condition = None):\n",
    "    estats_control = pd.DataFrame(estats.loc[:, ctrl])\n",
    "    estats_control.columns=['E-statistic']\n",
    "    estats_control['tmp'] = np.log10(np.clip(estats_control['E-statistic'], 0, np.infty)+1)\n",
    "    scale=0.75\n",
    "    with sns.axes_style('whitegrid'):\n",
    "        fig, ax = plt.subplots(figsize=[20*scale, 5*scale], dpi=300)\n",
    "    # np.log10(estats_control['E-statistic']+1)\n",
    "    sns.violinplot(data=estats_control.drop(ctrl), x='tmp', inner=None, color=\".8\", width=0.8, bw=0.5)\n",
    "    ax = sns.swarmplot(data=estats_control.drop(ctrl), x=estats_control.drop(ctrl)['tmp'], y=['']*len(estats_control.drop(ctrl)), size=10, marker='$\\mathbf{\\odot}$',\n",
    "                    edgecolors='white', linewidth=0, palette=['tab:blue', 'tab:red'])\n",
    "    \n",
    "    top3_indices = estats_control['tmp'].nlargest(3).index\n",
    "    top3_values = estats_control.loc[top3_indices, 'tmp']\n",
    "   # Adjust the x location of each annotation to prevent overlap\n",
    "    offsets = [(0.5, 0.3), (-0.4, 0.3), (0.2, 0.4)]\n",
    "    y_offsets = [-0.02, 0.03, 0.001]\n",
    "    for offset, y_offset, (idx, row) in zip(offsets,y_offsets, estats_control.loc[top3_indices].iterrows()):\n",
    "        ax.annotate(idx, xy=(row['tmp'], y_offset), xytext=(row['tmp'] + offset[0], offset[1]),\n",
    "                    arrowprops=dict(arrowstyle='-|>', color='black', lw=1.5),\n",
    "                    ha='center', va='bottom', fontsize=12, color='black')\n",
    "    plt.xlabel('E-distance+1 to unperturbed (log scale)')\n",
    "    ax.axvline(0, c='grey', linestyle='--', linewidth=4)\n",
    "    # log scale x ticks\n",
    "    from matplotlib import ticker as mticker\n",
    "    ax.xaxis.set_major_formatter(mticker.StrMethodFormatter(\"$10^{{{x:.0f}}}$\"))\n",
    "    xmin, xmax = ax.get_xlim()\n",
    "    tick_range = np.arange(0, xmax)\n",
    "    ax.xaxis.set_ticks(tick_range)\n",
    "    ax.xaxis.set_ticks([np.log10(x+1) for p in tick_range for x in np.linspace(10 ** p, 10 ** (p + 1), 10)], minor=True)\n",
    "    ax.set_xlim([-1, 5.5])\n",
    "    if condition is not None:\n",
    "        plt.savefig(f'e_dist_violin_{condition}.png', bbox_inches='tight')\n",
    "    plt.show()"
   ]
  },
  {
   "cell_type": "code",
   "execution_count": null,
   "metadata": {},
   "outputs": [],
   "source": [
    "e_dist_violin(estats, \"[DMSO]\")\n"
   ]
  },
  {
   "cell_type": "code",
   "execution_count": null,
   "metadata": {},
   "outputs": [],
   "source": [
    "fig, ax = plt.subplots(1,1, figsize=[20,15])\n",
    "order = estats_NO_CBK041211.sort_index().index\n",
    "sns.heatmap(estats_NO_CBK041211)\n",
    "plt.show()"
   ]
  },
  {
   "cell_type": "code",
   "execution_count": null,
   "metadata": {},
   "outputs": [],
   "source": [
    "from scipy.stats import zscore\n",
    "from scipy.cluster.hierarchy import distance, linkage, dendrogram\n",
    "from scipy.cluster import hierarchy\n",
    "\n",
    "def cluster_matrix(matrix, how='row', return_order=False, method='centroid'):\n",
    "    '''\n",
    "    Hierarchical clustering of a matrix/dataframe. `how` can be 'col', 'row' or 'both' (default: 'row').\n",
    "    '''\n",
    "    if how not in ['col', 'row', 'both']:\n",
    "        raise ValueError('Value for \"how\" must be row or col.')\n",
    "    if how!='both':\n",
    "        M = matrix if how=='row' else matrix.T\n",
    "        dist = distance.pdist(M)\n",
    "        link = linkage(dist, method=method)\n",
    "        dend = dendrogram(link, no_plot=True)\n",
    "        order = np.array(dend['leaves'], dtype=int)\n",
    "        if return_order:\n",
    "            return order\n",
    "        elif isinstance(matrix, pd.DataFrame):\n",
    "            return matrix.iloc[order] if how=='row' else matrix.iloc[:, order]\n",
    "        else:\n",
    "            return matrix[order] if how=='row' else matrix[:, order]\n",
    "    else:\n",
    "        if return_order:\n",
    "            warn('Returning order when clustering both row and col is not supported.')\n",
    "        matrix_ = cluster_matrix(matrix, how='row', return_order=False, method=method)\n",
    "        return cluster_matrix(matrix_, how='col', return_order=False, method=method)\n",
    "    "
   ]
  },
  {
   "cell_type": "code",
   "execution_count": null,
   "metadata": {},
   "outputs": [],
   "source": [
    "ed=estats\n",
    "\n",
    "with sns.axes_style('whitegrid'):\n",
    "    fig, ax  = plt.subplots(1, figsize=[20,20], dpi = 300)\n",
    "\n",
    "sns.heatmap(cluster_matrix(ed, \"both\"), robust=True, xticklabels=True, yticklabels=True, ax=ax)\n",
    "ax.set_title('E-distance between selected compounds')\n",
    "ax.set_xlabel('E-distance')\n",
    "ax.set_ylabel('E-distance')\n",
    "plt.savefig(\"e_dist_heatmap_moa_noCBK041211.png\", dpi = 300)\n"
   ]
  },
  {
   "cell_type": "code",
   "execution_count": null,
   "metadata": {},
   "outputs": [],
   "source": [
    "with sns.axes_style('whitegrid'):\n",
    "    fig, ax  = plt.subplots(1, figsize=[20,20], dpi = 300)\n",
    "\n",
    "Z = hierarchy.linkage(ed, 'single')\n",
    "dn = hierarchy.dendrogram(Z, labels=ed.columns, color_threshold=800, ax=ax)\n",
    "plt.xticks(rotation=90)\n",
    "plt.grid(axis='y')\n",
    "plt.ylabel('E-distance')\n",
    "plt.xlabel('cell type')\n",
    "plt.title('Perturbations hierarchy based on e dist')\n",
    "plt.savefig(\"e_dist_dendogram_moa.png\", dpi = 300)\n",
    "plt.show()"
   ]
  },
  {
   "cell_type": "code",
   "execution_count": null,
   "metadata": {},
   "outputs": [],
   "source": [
    "#adata.obs.groupby(\"Metadata_cmpdName\").count().sort_values(by='Metadata_Plate')\n",
    "no_dmso_df = adata.obs[adata.obs['Metadata_cmpdName'] != '[DMSO]']\n",
    "\n",
    "group_counts = no_dmso_df.groupby(\"Metadata_cmpdName\").size()\n",
    "# Now plot the distribution\n",
    "group_counts_sorted = group_counts.sort_values()\n",
    "\n",
    "# Calculate the percentage of groups below the thresholds\n",
    "threshold_200 = (group_counts_sorted < 250).mean() * 100\n",
    "threshold_500 = (group_counts_sorted < 500).mean() * 100\n",
    "\n",
    "# Now plot the distribution in ascending order\n",
    "group_counts_sorted.plot(kind='bar')\n",
    "\n",
    "ax = plt.gca()\n",
    "\n",
    "# Remove the x-axis tick marks\n",
    "ax.set_xticks([])\n",
    "\n",
    "# Draw horizontal lines at the 200 and 500 marks\n",
    "plt.axhline(y=250, color='r', linestyle='--')\n",
    "plt.axhline(y=500, color='g', linestyle='--')\n",
    "\n",
    "# Annotate the horizontal lines with the percentage of groups below the thresholds\n",
    "plt.text(x=group_counts_sorted.size, y=250, s=f\"{threshold_200:.2f}% groups < 250\", color='r', va='bottom')\n",
    "plt.text(x=group_counts_sorted.size, y=500, s=f\"{threshold_500:.2f}% groups < 500\", color='g', va='bottom')\n",
    "\n",
    "# Set labels and title\n",
    "plt.xlabel('Group')\n",
    "plt.ylabel('Number of cells')\n",
    "plt.title('Distribution of compounds sizes in ascending Order')\n",
    "plt.xlabel('Compound') # Rotate x-axis labels if necessary\n",
    "plt.tight_layout()  # Adjust layout to fit everything nicely\n",
    "plt.show()"
   ]
  },
  {
   "cell_type": "markdown",
   "metadata": {},
   "source": [
    "## E test"
   ]
  },
  {
   "cell_type": "code",
   "execution_count": null,
   "metadata": {},
   "outputs": [],
   "source": [
    "etest_grit_all = pd.read_csv(\"etest_res_specs5k_200_samples_100000_perms.csv\")"
   ]
  },
  {
   "cell_type": "code",
   "execution_count": null,
   "metadata": {},
   "outputs": [],
   "source": [
    "estats_control = pd.DataFrame(estats.loc[:, '[DMSO]'])\n",
    "estats_control.columns=['E-statistic']\n",
    "estats_control['tmp'] = np.log10(np.clip(estats_control['E-statistic'], 0, np.infty)+1)\n",
    "estats_control.reset_index(inplace=True)"
   ]
  },
  {
   "cell_type": "code",
   "execution_count": null,
   "metadata": {},
   "outputs": [],
   "source": [
    "e_dist_sign = pd.merge(estats_control, etest_grit_all, left_on = \"Metadata_cmpdName\", right_on = \"Unnamed: 0\", how = \"left\")"
   ]
  },
  {
   "cell_type": "code",
   "execution_count": null,
   "metadata": {},
   "outputs": [],
   "source": [
    "def e_dist_violin_sign(estats, condition, sign = False):\n",
    "    estats = estats[estats[\"Metadata_cmpdName\"] != \"DIMETHYL SULFOXIDE\"]\n",
    "    scale=0.75\n",
    "    with sns.axes_style('whitegrid'):\n",
    "        fig, ax = plt.subplots(figsize=[20*scale, 5*scale], dpi=300)\n",
    "    # np.log10(estats_control['E-statistic']+1)\n",
    "    sns.violinplot(data=estats, x='tmp', inner=None, color=\".8\", width=0.8, bw=0.5)\n",
    "    if sign:\n",
    "        ax = sns.swarmplot(data=estats, x=estats['tmp'], y=['']*len(estats), size=10, marker='$\\mathbf{\\odot}$',\n",
    "                    edgecolors='white', linewidth=0, hue = \"significant_adj\",palette=['tab:blue', 'tab:red', 'tab::orange'])\n",
    "        \n",
    "    else:\n",
    "        ax = sns.swarmplot(data=estats, x=estats['tmp'], y=['']*len(estats), size=10, marker='$\\mathbf{\\odot}$',\n",
    "                    edgecolors='white', linewidth=0, palette=['tab:blue', 'tab:red'])\n",
    "    plt.xlabel('E-distance+1 to unperturbed (log scale)')\n",
    "    ax.axvline(0, c='grey', linestyle='--', linewidth=4)\n",
    "    # log scale x ticks\n",
    "    from matplotlib import ticker as mticker\n",
    "    ax.xaxis.set_major_formatter(mticker.StrMethodFormatter(\"$10^{{{x:.0f}}}$\"))\n",
    "    xmin, xmax = ax.get_xlim()\n",
    "    tick_range = np.arange(0, xmax)\n",
    "    ax.xaxis.set_ticks(tick_range)\n",
    "    ax.xaxis.set_ticks([np.log10(x+1) for p in tick_range for x in np.linspace(10 ** p, 10 ** (p + 1), 10)], minor=True)\n",
    "    ax.set_xlim([-1, 5.5])\n",
    "    if sign:\n",
    "        plt.savefig(f'e_dist_violin_{condition}_sign_lev.png', bbox_inches='tight')\n",
    "    else:\n",
    "        plt.savefig(f'e_dist_violin_{condition}.png', bbox_inches='tight')\n",
    "    plt.show()"
   ]
  },
  {
   "cell_type": "code",
   "execution_count": null,
   "metadata": {},
   "outputs": [],
   "source": [
    "e_dist_violin_sign(e_dist_sign, \"full_grit\", sign = True)"
   ]
  },
  {
   "cell_type": "code",
   "execution_count": null,
   "metadata": {},
   "outputs": [],
   "source": [
    "e_dist_sign[e_dist_sign[\"significant_adj\"] == \"False\"]"
   ]
  },
  {
   "cell_type": "code",
   "execution_count": null,
   "metadata": {},
   "outputs": [],
   "source": [
    "def show_topn_comps(edist, estats, n, control):\n",
    "    df_sorted = estats.sort_values(by=\"E-statistic\", ascending=False)\n",
    "    # Get top n values from target_column\n",
    "    top = df_sorted.head(n)[\"Metadata_cmpdName\"].tolist()\n",
    "    # Get bottom n values from target_column\n",
    "    bot= df_sorted.tail(n)[\"Metadata_cmpdName\"].tolist()\n",
    "    scale=0.3\n",
    "    plt.subplots(figsize=[13*scale,10*scale], dpi=300)\n",
    "    conds = [\"[DMSO]\"] + bot + top\n",
    "    sub = edist.loc[conds, conds] + 1\n",
    "    sub = np.log10(np.clip(sub, 0, np.infty)+1)\n",
    "    sns.heatmap(sub, robust=False, linewidth=3)\n",
    "    plt.xticks(rotation=45, ha='right')\n",
    "    #plt.savefig(f'figures/e_distance/top_bot_{n}_cmpds_heatmap.png', bbox_inches='tight')\n",
    "    plt.show()\n",
    "    return top, bot"
   ]
  },
  {
   "cell_type": "code",
   "execution_count": null,
   "metadata": {},
   "outputs": [],
   "source": [
    "top_comp, bottom_comp = show_topn_comps(estats, e_dist_sign, 5, \"DIMETHYL SULFOXIDE\")"
   ]
  },
  {
   "cell_type": "code",
   "execution_count": null,
   "metadata": {},
   "outputs": [],
   "source": [
    "def run_edist_top_n(adata, cmpd_list, group):\n",
    "    filt_dat = adata[adata.obs[\"Metadata_cmpdName\"].isin(cmpd_list)]\n",
    "    e_stats = edist(filt_dat, obs_key=group, obsm_key='X_pca', dist='sqeuclidean', n_jobs= -1)\n",
    "    \n",
    "    return e_stats"
   ]
  },
  {
   "cell_type": "code",
   "execution_count": null,
   "metadata": {},
   "outputs": [],
   "source": [
    "top5_edist = run_edist_top_n(adata, top_comp + [\"DIMETHYL SULFOXIDE\"], \"Metadata_cmpdNameConc\")"
   ]
  },
  {
   "cell_type": "markdown",
   "metadata": {},
   "source": []
  }
 ],
 "metadata": {
  "kernelspec": {
   "display_name": "excellxgene_env",
   "language": "python",
   "name": "python3"
  },
  "language_info": {
   "codemirror_mode": {
    "name": "ipython",
    "version": 3
   },
   "file_extension": ".py",
   "mimetype": "text/x-python",
   "name": "python",
   "nbconvert_exporter": "python",
   "pygments_lexer": "ipython3",
   "version": "3.8.10"
  },
  "orig_nbformat": 4
 },
 "nbformat": 4,
 "nbformat_minor": 2
}
