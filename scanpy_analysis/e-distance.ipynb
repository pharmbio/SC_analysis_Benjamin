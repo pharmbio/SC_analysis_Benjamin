{
 "cells": [
  {
   "cell_type": "code",
   "execution_count": null,
   "id": "ec817255-23a5-493e-9447-ae8b81cf68b6",
   "metadata": {
    "tags": []
   },
   "outputs": [],
   "source": [
    "!pip install scanpy scikit-misc --quiet"
   ]
  },
  {
   "cell_type": "code",
   "execution_count": null,
   "id": "8f571eb1",
   "metadata": {
    "ExecuteTime": {
     "end_time": "2022-09-29T15:27:33.311883Z",
     "start_time": "2022-09-29T15:27:31.360087Z"
    },
    "tags": []
   },
   "outputs": [],
   "source": [
    "import scanpy as sc\n",
    "import matplotlib.pyplot as pl\n",
    "import anndata as ad\n",
    "import pandas as pd\n",
    "import numpy as np\n",
    "import seaborn as sns\n",
    "print('Scanpy version:', sc.__version__)\n",
    "\n",
    "# Jupyter stuff\n",
    "from tqdm.notebook import tqdm\n",
    "from IPython.display import clear_output\n",
    "from IPython.core.display import display, HTML\n",
    "display(HTML(\"<style>.container { width:95% !important; }</style>\"))\n",
    "%matplotlib inline"
   ]
  },
  {
   "cell_type": "code",
   "execution_count": null,
   "id": "39f0183b",
   "metadata": {
    "ExecuteTime": {
     "end_time": "2022-09-29T16:04:20.714236Z",
     "start_time": "2022-09-29T16:04:10.922291Z"
    },
    "tags": []
   },
   "outputs": [],
   "source": [
    "# !pip install scperturb --upgrade\n",
    "# from scperturb import *"
   ]
  },
  {
   "cell_type": "code",
   "execution_count": null,
   "id": "e5b25320",
   "metadata": {
    "tags": []
   },
   "outputs": [],
   "source": [
    "import sys\n",
    "sys.path.append(\"..\")\n",
    "%reload_ext autoreload\n",
    "%autoreload 2\n",
    "from src.scperturb import *"
   ]
  },
  {
   "cell_type": "markdown",
   "id": "2ad480a6",
   "metadata": {},
   "source": [
    "# Prepare the data"
   ]
  },
  {
   "cell_type": "code",
   "execution_count": null,
   "id": "3a8eee9e",
   "metadata": {
    "ExecuteTime": {
     "end_time": "2022-09-29T16:04:41.613962Z",
     "start_time": "2022-09-29T16:04:41.069237Z"
    },
    "tags": []
   },
   "outputs": [],
   "source": [
    "# !wget https://zenodo.org/record/7041849/files/DatlingerBock2021.h5ad\n",
    "file = '/scratch/peidli/scPerturb/DatlingerBock2021.h5ad'\n",
    "adata = sc.read_h5ad(file)\n",
    "adata"
   ]
  },
  {
   "cell_type": "code",
   "execution_count": null,
   "id": "d2a01b52",
   "metadata": {
    "ExecuteTime": {
     "end_time": "2022-09-29T16:04:42.604683Z",
     "start_time": "2022-09-29T16:04:41.615605Z"
    },
    "tags": []
   },
   "outputs": [],
   "source": [
    "if 'processed' in adata.uns.keys():\n",
    "    print('The dataset is already processed. Skipping processing...')\n",
    "else:\n",
    "    adata.layers['counts'] = adata.X.copy()\n",
    "\n",
    "    # basic qc and pp\n",
    "    sc.pp.filter_cells(adata, min_counts=1000)\n",
    "    sc.pp.normalize_per_cell(adata)\n",
    "    sc.pp.filter_genes(adata, min_cells=50)\n",
    "    sc.pp.log1p(adata)\n",
    "\n",
    "    # high class imbalance\n",
    "    adata = equal_subsampling(adata, 'perturbation', N_min=200)\n",
    "    sc.pp.filter_genes(adata, min_cells=3)  # sanity cleaning\n",
    "\n",
    "    # select HVGs\n",
    "    n_var_max = 2000  # max total features to select\n",
    "    sc.pp.highly_variable_genes(adata, n_top_genes=n_var_max, subset=False, flavor='seurat_v3', layer='counts')\n",
    "    sc.pp.pca(adata, use_highly_variable=True)\n",
    "    sc.pp.neighbors(adata)\n",
    "\n",
    "    adata.uns['processed'] = True"
   ]
  },
  {
   "cell_type": "markdown",
   "id": "66cf4603-4a92-4e70-be45-23b9a399a02c",
   "metadata": {},
   "source": [
    "# WORKBENCH"
   ]
  },
  {
   "cell_type": "code",
   "execution_count": null,
   "id": "0726b52b-1951-4124-a5bf-8fdce2b35989",
   "metadata": {
    "tags": []
   },
   "outputs": [],
   "source": [
    "['a'] + ['c']"
   ]
  },
  {
   "cell_type": "markdown",
   "id": "8128eb97",
   "metadata": {},
   "source": [
    "# E-distance"
   ]
  },
  {
   "cell_type": "code",
   "execution_count": null,
   "id": "c9a80da0",
   "metadata": {
    "ExecuteTime": {
     "end_time": "2022-09-29T16:04:45.748119Z",
     "start_time": "2022-09-29T16:04:45.744541Z"
    },
    "tags": []
   },
   "outputs": [],
   "source": [
    "# Compute E-distances\n",
    "estats = edist(adata, obs_key='perturbation', obsm_key='X_pca', dist='sqeuclidean')"
   ]
  },
  {
   "cell_type": "code",
   "execution_count": null,
   "id": "dd7d08a9",
   "metadata": {
    "ExecuteTime": {
     "end_time": "2022-09-29T16:04:45.774615Z",
     "start_time": "2022-09-29T16:04:45.749528Z"
    },
    "tags": []
   },
   "outputs": [],
   "source": [
    "# square matrix, all pairs of perturbations get an e-distance\n",
    "estats.head()"
   ]
  },
  {
   "cell_type": "code",
   "execution_count": null,
   "id": "055c8dc2",
   "metadata": {
    "ExecuteTime": {
     "end_time": "2022-09-29T16:04:45.871107Z",
     "start_time": "2022-09-29T16:04:45.775990Z"
    },
    "tags": []
   },
   "outputs": [],
   "source": [
    "with sns.axes_style('whitegrid'):\n",
    "    sns.violinplot(data=estats.loc['control'], inner=None)\n",
    "    sns.swarmplot(data=estats.loc['control'], size=10, color='white')\n",
    "pl.xticks([0], [''])\n",
    "pl.ylabel('E-distance to control')\n",
    "pl.title('Distribution of E-distances to control')\n",
    "pl.show()"
   ]
  },
  {
   "cell_type": "code",
   "execution_count": null,
   "id": "562d3794",
   "metadata": {
    "ExecuteTime": {
     "end_time": "2022-09-29T16:04:46.711182Z",
     "start_time": "2022-09-29T16:04:45.872593Z"
    }
   },
   "outputs": [],
   "source": [
    "fig, ax = pl.subplots(1,1, figsize=[10,8])\n",
    "order = estats.sort_index().index\n",
    "sns.heatmap(estats.loc[order, order])\n",
    "pl.show()"
   ]
  },
  {
   "cell_type": "markdown",
   "id": "2c1ca1b1",
   "metadata": {},
   "source": [
    "# E-testing"
   ]
  },
  {
   "cell_type": "code",
   "execution_count": null,
   "id": "d28091ca",
   "metadata": {
    "ExecuteTime": {
     "end_time": "2022-09-29T16:06:29.323188Z",
     "start_time": "2022-09-29T16:04:46.714287Z"
    },
    "tags": []
   },
   "outputs": [],
   "source": [
    "# e-testing (can be slow)\n",
    "df = etest(adata, obs_key='perturbation', obsm_key='X_pca', dist='sqeuclidean', control='control', alpha=0.05, runs=1000, n_jobs=-1)"
   ]
  },
  {
   "cell_type": "code",
   "execution_count": null,
   "id": "b605f18b",
   "metadata": {
    "tags": []
   },
   "outputs": [],
   "source": [
    "df.head()"
   ]
  },
  {
   "cell_type": "code",
   "execution_count": null,
   "id": "17024e96",
   "metadata": {
    "ExecuteTime": {
     "end_time": "2022-09-29T16:06:29.587638Z",
     "start_time": "2022-09-29T16:06:29.333666Z"
    },
    "tags": []
   },
   "outputs": [],
   "source": [
    "df.loc[df.index=='control', 'significant_adj'] = 'control'\n",
    "df['neglog10_pvalue_adj'] = -np.log10(df['pvalue_adj'])\n",
    "with sns.axes_style('whitegrid'):\n",
    "    sns.scatterplot(data=df, y='neglog10_pvalue_adj', x='edist', hue='significant_adj', palette={True: 'tab:green', False: 'tab:red', 'control': 'tab:orange'}, s=30)\n",
    "pl.title('E-test results')\n",
    "pl.xlabel('E-distance from control')\n",
    "pl.ylabel('E-test neg log10 of adjusted p-value')\n",
    "pl.show()"
   ]
  },
  {
   "cell_type": "code",
   "execution_count": null,
   "id": "96ac50fa",
   "metadata": {
    "ExecuteTime": {
     "end_time": "2022-09-29T16:06:29.756638Z",
     "start_time": "2022-09-29T16:06:29.589127Z"
    },
    "tags": []
   },
   "outputs": [],
   "source": [
    "with sns.axes_style('whitegrid'):\n",
    "    sns.violinplot(data=df, y='edist', inner=None)\n",
    "    sns.swarmplot(data=df, x=[0]*len(df), y='edist', size=10, hue='significant_adj', dodge=False, palette={True: 'tab:green', False: 'tab:red', 'control': 'tab:orange'})\n",
    "pl.xticks([0], [''])\n",
    "pl.ylabel('E-distance to control')\n",
    "pl.title('Distribution of E-distances to control')\n",
    "pl.show()"
   ]
  },
  {
   "cell_type": "code",
   "execution_count": null,
   "id": "660eccf3",
   "metadata": {},
   "outputs": [],
   "source": []
  }
 ],
 "metadata": {
  "hide_input": false,
  "kernelspec": {
   "display_name": "Python 3 (ipykernel)",
   "language": "python",
   "name": "python3"
  },
  "language_info": {
   "codemirror_mode": {
    "name": "ipython",
    "version": 3
   },
   "file_extension": ".py",
   "mimetype": "text/x-python",
   "name": "python",
   "nbconvert_exporter": "python",
   "pygments_lexer": "ipython3",
   "version": "3.10.9"
  },
  "vscode": {
   "interpreter": {
    "hash": "b286f6d81d26b8c5e9b75f0b330b147d4e82d310a48f1d10d555cf8099dd470e"
   }
  }
 },
 "nbformat": 4,
 "nbformat_minor": 5
}
