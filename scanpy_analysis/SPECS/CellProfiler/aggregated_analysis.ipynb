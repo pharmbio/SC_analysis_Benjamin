{
 "cells": [
  {
   "cell_type": "code",
   "execution_count": null,
   "metadata": {},
   "outputs": [],
   "source": [
    "import matplotlib\n",
    "import pandas as pd\n",
    "import sys\n",
    "import os\n",
    "import scanpy as sc\n",
    "import anndata as ad\n",
    "import polars as pl"
   ]
  },
  {
   "cell_type": "code",
   "execution_count": null,
   "metadata": {},
   "outputs": [],
   "source": [
    "specs5k_aggregated = pl.read_csv(\"/home/jovyan/share/data/analyses/martin/024_specs_all/HARMONY/harmony_specs_3k_2k/harm_results.csv\", separator = \";\").filter(pl.col(\"project\").is_in([\"specs3k\", \"specs2k\"]))\n",
    "specs5k_aggregated = specs5k_aggregated.rename({\"\" : \"index\"})"
   ]
  },
  {
   "cell_type": "code",
   "execution_count": null,
   "metadata": {},
   "outputs": [],
   "source": [
    "features_specs5k_aggregated = pl.read_csv(\"/home/jovyan/share/data/analyses/martin/024_specs_all/HARMONY/DatasetForHarmony.csv\", separator = \";\")\n",
    "features_specs5k_aggregated = features_specs5k_aggregated.rename({\"\" : \"index\"})"
   ]
  },
  {
   "cell_type": "code",
   "execution_count": null,
   "metadata": {},
   "outputs": [],
   "source": [
    "specs5k_aggregated_all = specs5k_aggregated.join(features_specs5k_aggregated, on = [\"index\", \"batch_id\", \"project\"], how = \"inner\")"
   ]
  },
  {
   "cell_type": "code",
   "execution_count": null,
   "metadata": {},
   "outputs": [],
   "source": [
    "meta_features = [\"cbkid\", \"Metadata_Barcode\", \"batch_id\", \"project\", \"index\"]\n",
    "pca_features = [feat for feat in specs5k_aggregated_all.columns if \"PC\" in feat]\n",
    "features = [feat for feat in specs5k_aggregated_all.columns if feat not in meta_features and feat not in pca_features]"
   ]
  },
  {
   "cell_type": "code",
   "execution_count": null,
   "metadata": {},
   "outputs": [],
   "source": [
    "adata = ad.AnnData(X=specs5k_aggregated_all[features].to_pandas(), obs=specs5k_aggregated_all[meta_features].to_pandas())\n",
    "pca = specs5k_aggregated_all[pca_features].to_numpy()\n",
    "adata.obsm['X_pca'] = pca\n"
   ]
  },
  {
   "cell_type": "code",
   "execution_count": null,
   "metadata": {},
   "outputs": [],
   "source": [
    "print(\"Starting scanpy!\")\n",
    "#sc.tl.pca(adata, svd_solver='arpack')\n",
    "sc.pp.neighbors(adata, n_neighbors=10, n_pcs=50)\n",
    "sc.tl.paga(adata, groups=\"cbkid\")\n",
    "sc.pl.paga(adata, plot=False)  # remove `plot=False` if you want to see the coarse-grained graph\n",
    "sc.tl.umap(adata, init_pos='paga')\n",
    "print(\"Embedding complete. Saving file!\")"
   ]
  },
  {
   "cell_type": "code",
   "execution_count": null,
   "metadata": {},
   "outputs": [],
   "source": [
    "sc.pl.umap(adata, color= \"project\")"
   ]
  },
  {
   "cell_type": "code",
   "execution_count": null,
   "metadata": {},
   "outputs": [],
   "source": [
    "adata.write(\"aggregated_specs5k_embedding.h5ad\")"
   ]
  },
  {
   "cell_type": "code",
   "execution_count": null,
   "metadata": {},
   "outputs": [],
   "source": [
    "adata = ad.read_h5ad(\"aggregated_specs5k_embedding.h5ad\")"
   ]
  },
  {
   "cell_type": "code",
   "execution_count": null,
   "metadata": {},
   "outputs": [],
   "source": [
    "len(adata.obs[\"cbkid\"].unique())"
   ]
  },
  {
   "cell_type": "code",
   "execution_count": null,
   "metadata": {},
   "outputs": [],
   "source": [
    "adata = ad.read_h5ad(\"aggregated_specs5k_embedding_cmp.h5ad\")"
   ]
  },
  {
   "cell_type": "code",
   "execution_count": null,
   "metadata": {},
   "outputs": [],
   "source": [
    "adata.write_h5ad(\"specs5K_agg_cmpd.h5ad\")"
   ]
  },
  {
   "cell_type": "code",
   "execution_count": null,
   "metadata": {},
   "outputs": [],
   "source": [
    "adata.obs"
   ]
  },
  {
   "cell_type": "code",
   "execution_count": null,
   "metadata": {},
   "outputs": [],
   "source": []
  }
 ],
 "metadata": {
  "kernelspec": {
   "display_name": "cellxgene",
   "language": "python",
   "name": "python3"
  },
  "language_info": {
   "codemirror_mode": {
    "name": "ipython",
    "version": 3
   },
   "file_extension": ".py",
   "mimetype": "text/x-python",
   "name": "python",
   "nbconvert_exporter": "python",
   "pygments_lexer": "ipython3",
   "version": "3.7.17"
  },
  "orig_nbformat": 4
 },
 "nbformat": 4,
 "nbformat_minor": 2
}
