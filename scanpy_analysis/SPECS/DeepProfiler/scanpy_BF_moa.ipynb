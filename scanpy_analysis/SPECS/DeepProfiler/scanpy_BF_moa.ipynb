{
 "cells": [
  {
   "cell_type": "code",
   "execution_count": null,
   "metadata": {},
   "outputs": [],
   "source": [
    "import scanpy as sc \n",
    "import anndata as ad\n",
    "import polars as pl\n",
    "import os\n",
    "import pandas as pd\n",
    "import seaborn as sns\n",
    "import matplotlib.pyplot as plt"
   ]
  },
  {
   "cell_type": "code",
   "execution_count": null,
   "metadata": {},
   "outputs": [],
   "source": [
    "PROJECT_DIR = \"/home/jovyan/share/data/analyses/benjamin/Single_cell_supervised\""
   ]
  },
  {
   "cell_type": "code",
   "execution_count": null,
   "metadata": {},
   "outputs": [],
   "source": [
    "sc_profiles = pl.read_parquet(os.path.join(PROJECT_DIR, 'BF_MOA/DeepProfiler/datasets/specs5k_undersampled_significant_BF.parquet'))"
   ]
  },
  {
   "cell_type": "code",
   "execution_count": null,
   "metadata": {},
   "outputs": [],
   "source": [
    "features_fixed = [feat for feat in sc_profiles.columns if \"Feature\" in feat]\n",
    "meta_features = [feat for feat in sc_profiles.columns if feat not in features_fixed]"
   ]
  },
  {
   "cell_type": "code",
   "execution_count": null,
   "metadata": {},
   "outputs": [],
   "source": [
    "meta_features"
   ]
  },
  {
   "cell_type": "code",
   "execution_count": null,
   "metadata": {},
   "outputs": [],
   "source": [
    "adata = ad.AnnData(X = sc_profiles.to_pandas()[features_fixed], obs = sc_profiles.to_pandas()[meta_features])"
   ]
  },
  {
   "cell_type": "code",
   "execution_count": null,
   "metadata": {},
   "outputs": [],
   "source": [
    "def run_scanpy(adata):\n",
    "    sc.tl.pca(adata, svd_solver='arpack')\n",
    "    sc.pp.neighbors(adata, n_neighbors=10, n_pcs=50)\n",
    "    sc.tl.paga(adata, groups = \"Metadata_cmpdName\")\n",
    "    sc.pl.paga(adata, plot=False)  # remove `plot=False` if you want to see the coarse-grained graph\n",
    "    sc.tl.umap(adata, init_pos='paga')\n",
    "    sc.tl.leiden(adata, key_added='clusters', resolution=0.2)"
   ]
  },
  {
   "cell_type": "code",
   "execution_count": null,
   "metadata": {},
   "outputs": [],
   "source": [
    "run_scanpy(adata)"
   ]
  },
  {
   "cell_type": "code",
   "execution_count": null,
   "metadata": {},
   "outputs": [],
   "source": [
    "sc.pl.pca(adata, color = \"project\",  palette=\"Set2\")\n",
    "#sc.pl.umap(adata, color = \"Metadata_cmpdName\",  palette=\"Set2\")\n",
    "sc.pl.umap(adata, color = \"project\",  palette=\"Set2\")"
   ]
  },
  {
   "cell_type": "code",
   "execution_count": null,
   "metadata": {},
   "outputs": [],
   "source": [
    "adata.write(\"moa/sc_embedding_BF_sign_DP.h5ad\")"
   ]
  },
  {
   "cell_type": "code",
   "execution_count": null,
   "metadata": {},
   "outputs": [],
   "source": [
    "# Assuming 'adata' is your AnnData object\n",
    "# Extract unique categories excluding 'dmso'\n",
    "categories = adata.obs['moa'].unique().tolist()\n",
    "categories.remove('dmso')  # Remove 'dmso' to handle it separately\n",
    "\n",
    "# Divide categories into two groups (example based on alphabetical order or any other criterion)\n",
    "half = len(categories) // 2\n",
    "group1 = categories[:half]\n",
    "group2 = categories[half:]\n",
    "group1.append('dmso')\n",
    "group2.append('dmso')"
   ]
  },
  {
   "cell_type": "code",
   "execution_count": null,
   "metadata": {},
   "outputs": [],
   "source": [
    "def generate_density_plots(adata, basis, group_categories, plot_key_prefix):\n",
    "    # Create a temporary column for grouping\n",
    "    temp_group_col = 'temp_group'\n",
    "    adata.obs[temp_group_col] = adata.obs['moa'].apply(lambda x: x if x in group_categories else None)\n",
    "    \n",
    "    # Generate and plot density\n",
    "    sc.tl.embedding_density(adata, basis=basis, groupby=temp_group_col)\n",
    "    sc.pl.embedding_density(adata, basis=basis, key=f'{basis}_density_{temp_group_col}', \n",
    "                            save=f\"moa/sc_BF_sign_{plot_key_prefix}_density_{basis}.png\")\n",
    "    \n",
    "    # Clean up temporary column\n",
    "    del adata.obs[temp_group_col]\n",
    "\n",
    "generate_density_plots(adata, 'umap', group2, 'group2')"
   ]
  },
  {
   "cell_type": "code",
   "execution_count": null,
   "metadata": {},
   "outputs": [],
   "source": [
    "generate_density_plots(adata, 'umap', group2, 'group2')"
   ]
  },
  {
   "cell_type": "code",
   "execution_count": null,
   "metadata": {},
   "outputs": [],
   "source": [
    "sc.tl.embedding_density(adata, basis=basis, groupby=temp_group_col)\n",
    "sc.pl.embedding_density(adata, basis=\"umap\", key='umap_density_temp_group')"
   ]
  },
  {
   "cell_type": "code",
   "execution_count": null,
   "metadata": {},
   "outputs": [],
   "source": []
  }
 ],
 "metadata": {
  "kernelspec": {
   "display_name": "cellxgene",
   "language": "python",
   "name": "python3"
  },
  "language_info": {
   "codemirror_mode": {
    "name": "ipython",
    "version": 3
   },
   "file_extension": ".py",
   "mimetype": "text/x-python",
   "name": "python",
   "nbconvert_exporter": "python",
   "pygments_lexer": "ipython3",
   "version": "3.7.17"
  },
  "orig_nbformat": 4
 },
 "nbformat": 4,
 "nbformat_minor": 2
}
