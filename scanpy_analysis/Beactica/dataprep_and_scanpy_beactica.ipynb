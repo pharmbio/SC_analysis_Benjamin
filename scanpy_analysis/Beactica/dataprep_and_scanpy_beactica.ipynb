{
 "cells": [
  {
   "cell_type": "code",
   "execution_count": null,
   "metadata": {},
   "outputs": [],
   "source": [
    "import scanpy as sc \n",
    "import anndata as ad\n",
    "import polars as pl\n",
    "import os\n",
    "import sys\n",
    "# Add the module_folder to the sys.path list\n",
    "sys.path.append('/home/jovyan/share/data/analyses/benjamin/Single_cell_project_rapids/analysis_functions/')\n",
    "from plotting import *"
   ]
  },
  {
   "cell_type": "code",
   "execution_count": null,
   "metadata": {},
   "outputs": [],
   "source": [
    "PROJECT_DIR = \"/home/jovyan/share/data/analyses/benjamin/Single_cell_project_rapids\""
   ]
  },
  {
   "cell_type": "code",
   "execution_count": null,
   "metadata": {},
   "outputs": [],
   "source": [
    "tests = ad.read_h5ad(\"/home/jovyan/share/data/analyses/benjamin/cellxgene/sc_embedding_scanpy_Beactica_deep+cell_cellcycle2.h5ad\")"
   ]
  },
  {
   "cell_type": "code",
   "execution_count": null,
   "metadata": {},
   "outputs": [],
   "source": [
    "list(tests.obs[\"Metadata_cmpdName\"])"
   ]
  },
  {
   "cell_type": "markdown",
   "metadata": {},
   "source": [
    "## Read in old data"
   ]
  },
  {
   "cell_type": "code",
   "execution_count": null,
   "metadata": {},
   "outputs": [],
   "source": [
    "# Only use one plate for Beactica due to size of data\n",
    "mad_norm_df = pl.read_parquet(os.path.join(PROJECT_DIR, 'Beactica/Results/sc_profiles_normalized_Beactica_PB000046.parquet'))"
   ]
  },
  {
   "cell_type": "code",
   "execution_count": null,
   "metadata": {},
   "outputs": [],
   "source": [
    "#features_fixed = [f for f in mad_norm_df.columns if \"Feature\" in f]\n",
    "grit_filt_df = pl.read_parquet(os.path.join(PROJECT_DIR, \"Beactica/deepprofiler/Results/sc_grit_merged_cellprofiler.parquet\"))"
   ]
  },
  {
   "cell_type": "code",
   "execution_count": null,
   "metadata": {},
   "outputs": [],
   "source": [
    "grit_filter = grit_filt_df.filter(\n",
    "    ((pl.col(\"grit\") >= 0.8) & (pl.col(\"grit\") < 4)) |\n",
    "    (pl.col(\"Metadata_cmpdName\") == \"DIMETHYL SULFOXIDE\")\n",
    ")"
   ]
  },
  {
   "cell_type": "code",
   "execution_count": null,
   "metadata": {},
   "outputs": [],
   "source": [
    "grit_filter.write_parquet(\"sc_grit_filter_FILTERED.parquet\")"
   ]
  },
  {
   "cell_type": "code",
   "execution_count": null,
   "metadata": {},
   "outputs": [],
   "source": [
    "grit_filter_df_sampled = grit_filt_df\n",
    "#sample_compounds(mad_norm_df, grit_filt_df, sampling_rate= 1, mode = \"normal\")\n",
    "grit_filter_df_sampled_pd = grit_filter_df_sampled.to_pandas()\n",
    "features_fixed = [f for f in grit_filt_df.columns if \"Feature\" in f]\n",
    "meta_features = [col for col in grit_filter_df_sampled_pd.columns if col not in features_fixed]"
   ]
  },
  {
   "cell_type": "markdown",
   "metadata": {},
   "source": [
    "## Grit filtering"
   ]
  },
  {
   "cell_type": "code",
   "execution_count": null,
   "metadata": {},
   "outputs": [],
   "source": [
    "def fix_compound_names(adata):\n",
    "    adata_temp = adata.copy()\n",
    "    adata_temp.obs[\"Metadata_cmpdName\"] = adata_temp.obs[\"Metadata_cmpdName\"].astype(str)\n",
    "    adata_temp.obs[\"compound_id\"] = adata_temp.obs[\"compound_id\"].astype(str)\n",
    "    nan_string_indices = adata_temp.obs[\"Metadata_cmpdName\"]== 'nan'\n",
    "    # For these indices, assign values from 'backup_column'\n",
    "    adata_temp.obs.loc[nan_string_indices, \"Metadata_cmpdName\"] = adata_temp.obs.loc[nan_string_indices, 'compound_id']\n",
    "    adata_temp.obs[\"Metadata_cmpdNameConc\"] = adata_temp.obs[\"Metadata_cmpdName\"].astype(str) + \"_\" + adata_temp.obs[\"Metadata_cmpdConc\"].astype(str)\n",
    "    return adata_temp"
   ]
  },
  {
   "cell_type": "code",
   "execution_count": null,
   "metadata": {},
   "outputs": [],
   "source": [
    "adata_copy = adata.copy()\n",
    "adata_copy.obs['grit'] = adata_copy.obs['grit'].fillna(0)\n",
    "adata_copy = fix_compound_names(adata_copy)\n",
    "#adata_copy.write(\"/home/jovyan/share/data/analyses/benjamin/cellxgene/sc_embedding_scanpy_Beactica_deep+cell_fix.h5ad\")"
   ]
  },
  {
   "cell_type": "code",
   "execution_count": null,
   "metadata": {},
   "outputs": [],
   "source": [
    "adata_grit_filter = adata_copy.copy()\n",
    "condition1 = (adata_grit_filter.obs['grit'] >= 0.8) & (adata_grit_filter.obs['grit'] <= 4)\n",
    "values_to_keep = ['DIMETHYL SULFOXIDE']  # replace with your actual values\n",
    "condition2 = adata_grit_filter.obs['Metadata_cmpdName'].isin(values_to_keep)\n",
    "\n",
    "combined_condition = condition1 | condition2\n",
    "\n",
    "# Filter the AnnData object\n",
    "filtered_adata = adata_grit_filter[combined_condition]\n",
    "\n",
    "filtered_adata = fix_compound_names(filtered_adata)"
   ]
  },
  {
   "cell_type": "code",
   "execution_count": null,
   "metadata": {},
   "outputs": [],
   "source": [
    "filtered_adata.write(\"/home/jovyan/share/data/analyses/benjamin/cellxgene/sc_embedding_scanpy_Beactica_deep+cellcylce_grit_filtered.h5ad\")"
   ]
  },
  {
   "cell_type": "code",
   "execution_count": null,
   "metadata": {},
   "outputs": [],
   "source": [
    "grit_dist = adata[adata.obs[\"grit\"].notna()]"
   ]
  },
  {
   "cell_type": "code",
   "execution_count": null,
   "metadata": {},
   "outputs": [],
   "source": [
    "grit_dist_filt = grit_dist[(grit_dist.obs['grit'] >= 0.8) & (grit_dist.obs['grit'] <= 4)| grit_dist.obs['Metadata_cmpdName'].isin([\"DIMETHYL SULFOXIDE\"])]"
   ]
  },
  {
   "cell_type": "code",
   "execution_count": null,
   "metadata": {},
   "outputs": [],
   "source": [
    "grit_dist_filt = fix_compound_names(grit_dist_filt)"
   ]
  },
  {
   "cell_type": "markdown",
   "metadata": {},
   "source": [
    "## Filter low intensity"
   ]
  },
  {
   "cell_type": "code",
   "execution_count": null,
   "metadata": {},
   "outputs": [],
   "source": [
    "adata = ad.read_h5ad(\"sc_embedding_scanpy_Beactica_deep+cell_edist.h5ad\")"
   ]
  },
  {
   "cell_type": "code",
   "execution_count": null,
   "metadata": {},
   "outputs": [],
   "source": [
    "adata.obs.columns"
   ]
  },
  {
   "cell_type": "code",
   "execution_count": null,
   "metadata": {},
   "outputs": [],
   "source": [
    "filtered_adata = adata[(adata.obs['Intensity_IntegratedIntensity_illumHOECHST_nuclei'] > 10) & \n",
    "                       (adata.obs['AreaShape_Area_nuclei'] > 50)].copy()"
   ]
  },
  {
   "cell_type": "code",
   "execution_count": null,
   "metadata": {},
   "outputs": [],
   "source": [
    "filtered_adata.obs[\"Intensity_IntegratedIntensity_illumHOECHST_nuclei\"].min()"
   ]
  },
  {
   "cell_type": "code",
   "execution_count": null,
   "metadata": {},
   "outputs": [],
   "source": [
    "print(\"Starting scanpy!\")\n",
    "sc.tl.pca(filtered_adata, svd_solver='arpack')\n",
    "sc.pp.neighbors(filtered_adata, n_neighbors=10, n_pcs=50)\n",
    "sc.tl.paga(filtered_adata, groups=\"Metadata_cmpdName\")\n",
    "sc.pl.paga(filtered_adata, plot=False)  # remove `plot=False` if you want to see the coarse-grained graph\n",
    "sc.tl.umap(filtered_adata, init_pos='paga')\n",
    "print(\"Embedding complete. Saving file!\")"
   ]
  },
  {
   "cell_type": "markdown",
   "metadata": {},
   "source": [
    "## Scanpy plots"
   ]
  },
  {
   "cell_type": "code",
   "execution_count": null,
   "metadata": {},
   "outputs": [],
   "source": [
    "sc.pl.pca(filtered_adata, color = \"Metadata_cmpdName\")\n",
    "sc.pl.pca_variance_ratio(filtered_adata)"
   ]
  },
  {
   "cell_type": "code",
   "execution_count": null,
   "metadata": {},
   "outputs": [],
   "source": [
    "sc.pl.umap(filtered_adata, color = [\"Metadata_cmpdName\"])"
   ]
  },
  {
   "cell_type": "code",
   "execution_count": null,
   "metadata": {},
   "outputs": [],
   "source": [
    "filtered_adata.write_h5ad(\"sc_embedding_scanpy_Beactica_deep+cell_edist_segmfix3.h5ad\")"
   ]
  },
  {
   "cell_type": "code",
   "execution_count": null,
   "metadata": {},
   "outputs": [],
   "source": [
    "import matplotlib.pyplot as plt\n",
    "import seaborn as sns\n",
    "import matplotlib.colors as mcolors\n",
    "# Inital setting for plot\n",
    "from matplotlib import rcParams\n",
    "with plt.rc_context({\"figure.figsize\": (8, 8), \"figure.dpi\": (300)}):\n",
    "    sc.pl.umap(filtered_adata, color =\"moa\")"
   ]
  },
  {
   "cell_type": "markdown",
   "metadata": {},
   "source": [
    "## Cell cycle analysis"
   ]
  },
  {
   "cell_type": "code",
   "execution_count": null,
   "metadata": {},
   "outputs": [],
   "source": [
    "import numpy as np\n",
    "import seaborn as sns\n",
    "def show_meta_distribution(adata, column):\n",
    "    data = adata.obs[column]\n",
    "\n",
    "# Generate the histogram\n",
    "    counts, bin_edges = np.histogram(data, bins=300)\n",
    "    bin_centers = (bin_edges[:-1] + bin_edges[1:]) / 2\n",
    "\n",
    "    # Normalize bin_centers for color mapping\n",
    "    norm_bin_centers = (bin_centers - bin_centers.min()) / (bin_centers.max() - bin_centers.min())\n",
    "\n",
    "    # Create a colormap\n",
    "    cmap = plt.cm.viridis\n",
    "\n",
    "    # Plot each bar individually, coloring them based on the normalized bin center\n",
    "    plt.figure(figsize=(10, 6))\n",
    "    for count, x, norm_bin_center in zip(counts, bin_centers, norm_bin_centers):\n",
    "        plt.bar(x, count, width=bin_edges[1] - bin_edges[0], color=cmap(norm_bin_center))\n",
    "\n",
    "    # Overlay KDE\n",
    "    sns.kdeplot(data, color='k', linewidth=2, alpha=0.7)\n",
    "\n",
    "    plt.colorbar(plt.cm.ScalarMappable(cmap=cmap), label='Normalized Bin Center')\n",
    "    plt.title(f'Histogram of {column}')\n",
    "    plt.xlabel(column)\n",
    "    plt.ylabel('Frequency')\n",
    "    plt.show()"
   ]
  },
  {
   "cell_type": "code",
   "execution_count": null,
   "metadata": {},
   "outputs": [],
   "source": [
    "import numpy as np\n",
    "import seaborn as sns\n",
    "from scipy.signal import find_peaks\n",
    "import matplotlib.pyplot as plt\n",
    "import matplotlib.colors as mcolors\n",
    "import anndata as ad\n",
    "\n",
    "def find_histogram_groups(adata, obs_column, labels=None, threshold=None, bin_width=100, bw_adjust=0.5):\n",
    "    \"\"\"\n",
    "    Find groups in the distribution of a feature in an AnnData object, shade the identified regions in different colors, and label them.\n",
    "    \n",
    "    Parameters:\n",
    "    - adata (AnnData): The AnnData object containing the data.\n",
    "    - obs_column (str): The name of the column in adata.obs of interest.\n",
    "    - labels (list of str, optional): Labels for each identified region.\n",
    "    - threshold (float, optional): A value above which all data points are considered in the same category.\n",
    "    - bin_width (int): The number of bins for the histogram.\n",
    "    - bw_adjust (float): Bandwidth adjustment for KDE.\n",
    "    \"\"\"\n",
    "    # Extract the data from the specified obs column\n",
    "    data = adata.obs[obs_column]\n",
    "\n",
    "    # Calculate histogram data\n",
    "    density, bins = np.histogram(data, bins=bin_width, density=True)\n",
    "    peaks, _ = find_peaks(density)\n",
    "    \n",
    "    # Define boundaries around peaks\n",
    "    boundaries = [(bins[peaks[i]] + bins[peaks[i+1]]) / 2 for i in range(len(peaks)-1)]\n",
    "    \n",
    "    # Incorporate threshold\n",
    "    if threshold is not None:\n",
    "        boundaries = [b for b in boundaries if b < threshold]\n",
    "    \n",
    "    # Plotting\n",
    "    plt.figure(figsize=(10, 6))\n",
    "    sns.kdeplot(data, bw_adjust=bw_adjust, fill=True)\n",
    "    cmap = plt.get_cmap('tab10')  # Colormap with distinct colors\n",
    "    \n",
    "    # Ensure there are enough labels\n",
    "    num_regions = len(boundaries) + 1 + (1 if threshold is not None else 0)\n",
    "    if not labels or len(labels) < num_regions:\n",
    "        labels = labels or []\n",
    "        labels += [f'Region {i + 1}' for i in range(len(labels), num_regions)]\n",
    "    \n",
    "    label_ranges = {}\n",
    "\n",
    "\n",
    "    def update_label_ranges(label, new_range):\n",
    "        if label in label_ranges:\n",
    "            current_range = label_ranges[label]\n",
    "            # Update the range with the min and max of the current and new range\n",
    "            label_ranges[label] = (min(current_range[0], new_range[0]), max(current_range[1], new_range[1]))\n",
    "        else:\n",
    "            label_ranges[label] = new_range\n",
    "\n",
    "    # Shade regions below the lowest boundary\n",
    "    if boundaries:\n",
    "        plt.fill_betweenx([0, density.max()], bins[0], boundaries[0], color=cmap(0), alpha=0.3)\n",
    "        plt.text(boundaries[0]/2, density.max()/2, labels[0], color=cmap(0), ha='center', fontweight = \"bold\")\n",
    "        #label_ranges[labels[0]] = (-100, boundaries[0])\n",
    "        update_label_ranges(labels[0], (-10, boundaries[0]))\n",
    "    # Shade regions and plot boundaries, and label them\n",
    "    for i, boundary in enumerate(boundaries):\n",
    "        plt.axvline(x=boundary, color='green', linestyle='--')  # Plot boundaries\n",
    "        if i < len(boundaries) - 1:\n",
    "            middle_point = (boundary + boundaries[i+1]) / 2\n",
    "        else:\n",
    "            middle_point = (boundary + bins[-1]) / 2 if threshold is None else (boundary + threshold) / 2\n",
    "        plt.fill_betweenx([0, density.max()], boundary, boundaries[i+1] if i < len(boundaries) - 1 else bins[-1], color=cmap(i+1), alpha=0.3)\n",
    "        plt.text(middle_point, density.max()/2, labels[i+1], color=cmap(i+1), ha='center', fontweight = \"bold\")\n",
    "        new_range = (boundaries[i], boundaries[i+1] if i < len(boundaries) - 1 else (threshold if threshold is not None else bins[-1]))\n",
    "        update_label_ranges(labels[i+1], new_range)\n",
    "        #label_ranges[labels[i+1]] = (boundaries[i], boundaries[i+1] if i < len(boundaries) - 1 else (threshold if threshold is not None else bins[-1]))\n",
    "    # Shade region above threshold if it's defined and label it\n",
    "    if threshold is not None:\n",
    "        plt.fill_betweenx([0, density.max()], threshold, bins[-1], color=cmap(len(boundaries) + 1), alpha=0.3)\n",
    "        plt.axvline(x=threshold, color='black', linestyle='--', linewidth=1)  # Plot threshold line\n",
    "        plt.text((threshold + bins[-1])/2, density.max()/2, labels[-1], color=cmap(len(boundaries) + 1), ha='center', fontweight='bold')\n",
    "        #label_ranges[labels[-1]] = (threshold, bins[-1])\n",
    "        update_label_ranges(labels[-1], (threshold, 5000))\n",
    "    plt.title(f'Histogram with Identified Groups of {obs_column}')\n",
    "    plt.xlabel(obs_column)\n",
    "    plt.ylabel('Density')\n",
    "    plt.show()\n",
    "    print(label_ranges)\n",
    "    return label_ranges"
   ]
  },
  {
   "cell_type": "code",
   "execution_count": null,
   "metadata": {},
   "outputs": [],
   "source": [
    "cell_cylce_ranges = find_histogram_groups(adata = adata_copy[adata_copy.obs[\"Metadata_cmpdName\"] == \"DIMETHYL SULFOXIDE\"], obs_column =\"Intensity_IntegratedIntensity_illumHOECHST_nuclei\", labels =  [\"Sub G1\", \"G1\", \"S\", \"G2/M\", \"G2/M\", \"Undefined\"], threshold = 1300, bin_width=100)"
   ]
  },
  {
   "cell_type": "code",
   "execution_count": null,
   "metadata": {},
   "outputs": [],
   "source": [
    "def plot_histogram_with_labels(adata, obs_column, label_ranges, bin_width=100, bw_adjust=0.5):\n",
    "    \"\"\"\n",
    "    Plot a histogram of a feature in an AnnData object with regions shaded and labeled based on provided label ranges.\n",
    "    \n",
    "    Parameters:\n",
    "    - adata (AnnData): The AnnData object containing the data.\n",
    "    - obs_column (str): The name of the column in adata.obs of interest.\n",
    "    - label_ranges (dict): Dictionary with labels as keys and value ranges as values.\n",
    "    - bin_width (int): The number of bins for the histogram.\n",
    "    - bw_adjust (float): Bandwidth adjustment for KDE.\n",
    "    \"\"\"\n",
    "    # Extract the data from the specified obs column\n",
    "    data = adata.obs[obs_column]\n",
    "\n",
    "    # Calculate histogram data\n",
    "    density, bins = np.histogram(data, bins=bin_width, density=True)\n",
    "\n",
    "    # Plotting\n",
    "    plt.figure(figsize=(10, 6), dpi = 300)\n",
    "    sns.kdeplot(data, bw_adjust=bw_adjust, fill=True)\n",
    "    cmap = plt.get_cmap('tab10')  # Colormap with distinct colors\n",
    "\n",
    "    # Iterate through the label_ranges and shade & label each region\n",
    "    for i, (label, (start, end)) in enumerate(label_ranges.items()):\n",
    "        plt.fill_betweenx([0, density.max()], start, end, color=cmap(i), alpha=0.3)\n",
    "        plt.text((start + end) / 2, density.max() * 0.97, label, color=cmap(i), ha='center', fontweight='bold')\n",
    "\n",
    "    plt.title(f'Histogram with Identified Groups of {obs_column}')\n",
    "    plt.xlabel(obs_column)\n",
    "    plt.ylabel('Density')\n",
    "    plt.savefig(\"dmso_cell_cyles_BEACTICA.png\", dpi = 300)\n",
    "    plt.show()"
   ]
  },
  {
   "cell_type": "code",
   "execution_count": null,
   "metadata": {},
   "outputs": [],
   "source": [
    "plot_histogram_with_labels(adata_copy[adata_copy.obs[\"Metadata_cmpdName\"] == \"DIMETHYL SULFOXIDE\"], \"Intensity_IntegratedIntensity_illumHOECHST_nuclei\", cell_cylce_ranges)"
   ]
  },
  {
   "cell_type": "code",
   "execution_count": null,
   "metadata": {},
   "outputs": [],
   "source": [
    "import pandas as pd\n",
    "def assing_cell_cycle_stage(adata, obs_column, label_ranges):\n",
    "    \"\"\"\n",
    "    Assign labels to the 'cell_cycle' column in an AnnData object based on the value ranges from the label_ranges dictionary.\n",
    "    \n",
    "    Parameters:\n",
    "    - adata (AnnData): The AnnData object containing the data.\n",
    "    - obs_column (str): The name of the column in adata.obs to use for labeling.\n",
    "    - label_ranges (dict): Dictionary with labels as keys and value ranges as values.\n",
    "    \"\"\"\n",
    "    # Ensure cell_cycle column exists in adata.obs\n",
    "    if 'cell_cycle' not in adata.obs:\n",
    "        adata.obs['cell_cycle'] = pd.NA\n",
    "    \n",
    "    # Assign labels based on ranges\n",
    "    for label, (start, end) in label_ranges.items():\n",
    "        # Find rows where the value falls within the current range and assign the label\n",
    "        adata.obs.loc[(adata.obs[obs_column] >= start) & (adata.obs[obs_column] <= end), 'cell_cycle'] = label\n"
   ]
  },
  {
   "cell_type": "code",
   "execution_count": null,
   "metadata": {},
   "outputs": [],
   "source": [
    "assing_cell_cycle_stage(adata_copy,\"Intensity_IntegratedIntensity_illumHOECHST_nuclei\", cell_cylce_ranges)"
   ]
  },
  {
   "cell_type": "code",
   "execution_count": null,
   "metadata": {},
   "outputs": [],
   "source": [
    "adata_copy.write(\"/home/jovyan/share/data/analyses/benjamin/cellxgene/sc_embedding_scanpy_Beactica_deep+cell_cellcycle.h5ad\")"
   ]
  },
  {
   "cell_type": "code",
   "execution_count": null,
   "metadata": {},
   "outputs": [],
   "source": [
    "adata = ad.read_h5ad(\"/home/jovyan/share/data/analyses/benjamin/cellxgene/sc_embedding_scanpy_Beactica_deep+cell_cellcycle2.h5ad\")"
   ]
  },
  {
   "cell_type": "code",
   "execution_count": null,
   "metadata": {},
   "outputs": [],
   "source": [
    "def kde_plot_by_category(adata, compound, value_column, category_column):\n",
    "    \"\"\"\n",
    "    Create KDE plots for values in one column of anndata.obs, colored by categories in another column.\n",
    "    \n",
    "    Parameters:\n",
    "    - adata (AnnData): The AnnData object containing the data.\n",
    "    - value_column (str): The name of the column in adata.obs whose values are to be plotted.\n",
    "    - category_column (str): The name of the column in adata.obs to use for coloring the KDE plots.\n",
    "    \"\"\"\n",
    "    # Ensure the columns exist\n",
    "    if value_column not in adata.obs.columns or category_column not in adata.obs.columns:\n",
    "        raise ValueError(f\"Columns {value_column} and/or {category_column} not found in adata.obs\")\n",
    "    \n",
    "    data = adata[adata.obs[\"Metadata_cmpdName\"] == compound]\n",
    "    # Create the plo\n",
    "    plt.figure(figsize=(15, 10), dpi = 300)\n",
    "    \n",
    "    # Get unique categories\n",
    "    categories = data.obs[category_column].unique()\n",
    "    \n",
    "    # Plot KDE for each category\n",
    "    for category in categories:\n",
    "        subset = data.obs[data.obs[category_column] == category]\n",
    "        sns.kdeplot(subset[value_column], label=category, fill=False, bw_adjust=0.5, alpha = 1)\n",
    "    \n",
    "    plt.title(f'KDE of {value_column} colored by {category_column}')\n",
    "    plt.xlabel(value_column)\n",
    "    plt.ylabel('Density')\n",
    "    plt.legend(title=category_column)\n",
    "    plt.show()"
   ]
  },
  {
   "cell_type": "code",
   "execution_count": null,
   "metadata": {},
   "outputs": [],
   "source": [
    "kde_plot_by_category(adata, \"CISPLATIN\", \"Intensity_IntegratedIntensity_illumHOECHST_nuclei\", \"Metadata_cmpdConc\")"
   ]
  },
  {
   "cell_type": "code",
   "execution_count": null,
   "metadata": {},
   "outputs": [],
   "source": [
    "def violin_plot_by_category(adata, compound, value_column, category_column, scale):\n",
    "    \"\"\"\n",
    "    Create violin plots for values in one column of anndata.obs, split by categories in another column, with an additional violin plot for \"DIMETHYL SULFOXIDE\".\n",
    "    \n",
    "    Parameters:\n",
    "    - adata (AnnData): The AnnData object containing the data.\n",
    "    - compound (str): The compound name to filter the data for plotting.\n",
    "    - value_column (str): The name of the column in adata.obs whose values are to be plotted.\n",
    "    - category_column (str): The name of the column in adata.obs to use for splitting the violin plots.\n",
    "    \"\"\"\n",
    "    # Ensure the columns exist\n",
    "    if value_column not in adata.obs.columns or category_column not in adata.obs.columns:\n",
    "        raise ValueError(f\"Columns {value_column} and/or {category_column} not found in adata.obs\")\n",
    "    \n",
    "    # Filter data based on the selected compound and DMSO\n",
    "    data_compound = adata.obs[adata.obs[\"Metadata_cmpdName\"] == compound].copy()\n",
    "    data_dmso = adata.obs[adata.obs[\"Metadata_cmpdName\"] == \"DIMETHYL SULFOXIDE\"].copy()\n",
    "    \n",
    "    # Adjust the category for DMSO to display \"DMSO\" instead of the actual concentration value\n",
    "    data_dmso[category_column] = \"DMSO\"\n",
    "    \n",
    "    # Concatenate DMSO data with the compound data\n",
    "    data = pd.concat([data_dmso, data_compound], axis=0)\n",
    "    \n",
    "    # Define the order for the y-axis categories\n",
    "    category_order = [\"DMSO\", 0.1, 0.3, 1, 3, 5, 10]\n",
    "    \n",
    "    # Create the violin plot with the specified category order\n",
    "    plt.figure(figsize=(15, 10), dpi=300)\n",
    "    ax = sns.violinplot(x=value_column, y=category_column, orient=\"h\", scale= scale, data=data, cut=0, inner='box', palette='viridis', split=True, order=category_order)\n",
    "\n",
    "    # Set plot title and labels\n",
    "    ax.set_title(f'Distribution of DNA integrated intensity for {compound} with DMSO', fontsize=20, fontweight='bold')\n",
    "    ax.set_xlabel(value_column, fontsize=14, fontweight='bold')\n",
    "    ax.set_ylabel(category_column, fontsize=14, fontweight='bold')\n",
    "    plt.tight_layout()  # Adjust layout to fit everything nicely\n",
    "    plt.savefig(f\"/home/jovyan/share/data/analyses/benjamin/cellxgene/Beactica/deepprofiler/figures/cell_cycle/dna_intensity_kde_{compound}_dmso.png\", dpi = 300)\n",
    "    #plt.show()"
   ]
  },
  {
   "cell_type": "code",
   "execution_count": null,
   "metadata": {},
   "outputs": [],
   "source": [
    "compounds = [\"CLADRIBINE\"]\n",
    "#[\"ETOPOSIDE\", \"CISPLATIN\", \"FK 866\", \"NIGERICIN\", 'HS-173', \"BEA-0005443-AQ-003\", \"DACTINOMYCIN (ACTINOMYCIN D)\"]\n",
    "for c in compounds:\n",
    "    if c in [\"NIGERICIN\", \"DACTINOMYCIN (ACTINOMYCIN D)\"]:\n",
    "        violin_plot_by_category(adata, c, \"Intensity_IntegratedIntensity_illumHOECHST_nuclei\", \"Metadata_cmpdConc\", scale = \"width\")\n",
    "    else:\n",
    "        violin_plot_by_category(adata, c, \"Intensity_IntegratedIntensity_illumHOECHST_nuclei\", \"Metadata_cmpdConc\", scale = \"area\")"
   ]
  },
  {
   "cell_type": "code",
   "execution_count": null,
   "metadata": {},
   "outputs": [],
   "source": [
    "dmso_anndata = ad.AnnData(X=adata[adata.obs[\"Metadata_cmpdName\"] == \"DIMETHYL SULFOXIDE\"].X, obs=adata[adata.obs[\"Metadata_cmpdName\"] == \"DIMETHYL SULFOXIDE\"].obs)"
   ]
  },
  {
   "cell_type": "code",
   "execution_count": null,
   "metadata": {},
   "outputs": [],
   "source": [
    "def run_scanpy(adata, compound_col):\n",
    "    sc.tl.pca(adata, svd_solver='arpack')\n",
    "    sc.pp.neighbors(adata, n_neighbors=10, n_pcs=50)\n",
    "    sc.tl.paga(adata, groups=compound_col)\n",
    "    sc.pl.paga(adata, plot=False)  # remove `plot=False` if you want to see the coarse-grained graph\n",
    "    sc.tl.umap(adata, init_pos='paga')\n",
    "    return adata"
   ]
  },
  {
   "cell_type": "code",
   "execution_count": null,
   "metadata": {},
   "outputs": [],
   "source": [
    "dmso_anndata = run_scanpy(dmso_anndata, \"Metadata_cmpdName\")"
   ]
  },
  {
   "cell_type": "markdown",
   "metadata": {},
   "source": [
    "## Load in cellxgene embeddings"
   ]
  },
  {
   "cell_type": "code",
   "execution_count": null,
   "metadata": {},
   "outputs": [],
   "source": [
    "CXG_DIR = \"/home/jovyan/share/data/analyses/benjamin/cellxgene/Beactica/deepprofiler/embeddings\""
   ]
  },
  {
   "cell_type": "code",
   "execution_count": null,
   "metadata": {},
   "outputs": [],
   "source": [
    "def fix_keys(adata):\n",
    "    def find_key_with_substring(obsm, substring):\n",
    "        for key in obsm.keys():\n",
    "            if substring in key:\n",
    "                return key\n",
    "        return None\n",
    "\n",
    "    # Find the keys\n",
    "    pca_key = find_key_with_substring(adata.obsm, 'pca')\n",
    "    umap_key = find_key_with_substring(adata.obsm, 'dmso')\n",
    "    if umap_key == None:\n",
    "        umap_key = find_key_with_substring(adata.obsm, 'emb')\n",
    "\n",
    "    # Rename the keys if they are found\n",
    "    if pca_key:\n",
    "        adata.obsm['X_pca'] = adata.obsm[pca_key]\n",
    "        #del adata.obsm[pca_key]\n",
    "\n",
    "    if umap_key:\n",
    "        adata.obsm['X_umap'] = adata.obsm[umap_key]\n",
    "        #del adata.obsm[umap_key]\n",
    "\n",
    "    return adata"
   ]
  },
  {
   "cell_type": "code",
   "execution_count": null,
   "metadata": {},
   "outputs": [],
   "source": [
    "import tqdm\n",
    "import os\n",
    "import anndata as ad\n",
    "emb_dict = {}\n",
    "ref_comp = [\"fk866\", \"hs-173\", \"nigericin\", \"aq-003\", \"actinomycin-d\", \"dmso_only\"]\n",
    "h5ad_files = [file for file in os.listdir(CXG_DIR) if file.endswith(\".h5ad\")]\n",
    "\n",
    "for comp in tqdm.tqdm(ref_comp):\n",
    "   for filename in h5ad_files:\n",
    "        # Check if the current string is in the filename\n",
    "        if comp in filename and filename.endswith(\".h5ad\"):\n",
    "            # Construct the full file path\n",
    "            file_path = os.path.join(CXG_DIR, filename)\n",
    "            # Load the .h5ad file\n",
    "            temp = ad.read_h5ad(file_path)\n",
    "            temp_fix = fix_keys(temp)\n",
    "            emb_dict[comp] = temp_fix\n",
    "            # Optional: Print a message\n",
    "            print(f\"Loaded {filename}\")"
   ]
  },
  {
   "cell_type": "code",
   "execution_count": null,
   "metadata": {},
   "outputs": [],
   "source": [
    "temp = ad.read_h5ad(os.path.join(CXG_DIR, \"umap.h5ad\"))\n",
    "temp_fix = fix_keys(temp)\n",
    "emb_dict[\"all\"] = temp_fix"
   ]
  },
  {
   "cell_type": "code",
   "execution_count": null,
   "metadata": {},
   "outputs": [],
   "source": [
    "emb_dict[\"all\"].obs[\"Metadata_cmpdName\"] = emb_dict[\"all\"].obs[\"Metadata_cmpdName\"].astype(str)\n",
    "emb_dict[\"all\"].obs[\"compound_id\"] = emb_dict[\"all\"].obs[\"compound_id\"].astype(str)\n",
    "nan_string_indices = emb_dict[\"all\"].obs[\"Metadata_cmpdName\"]== 'nan'\n",
    "# For these indices, assign values from 'backup_column'\n",
    "emb_dict[\"all\"].obs.loc[nan_string_indices, \"Metadata_cmpdName\"] = emb_dict[\"all\"].obs.loc[nan_string_indices, 'compound_id']\n",
    "\n",
    "emb_dict[\"all\"].obs['subpopulations'] = emb_dict[\"all\"].obs.apply(\n",
    "    lambda row: row['Metadata_cmpdName'] + \"_\" + row['leiden_v4_r0.4'] if row['leiden_v4_r0.4'] != 'unassigned' else row['Metadata_cmpdName'],\n",
    "    axis=1\n",
    ")\n"
   ]
  },
  {
   "cell_type": "code",
   "execution_count": null,
   "metadata": {},
   "outputs": [],
   "source": [
    "import matplotlib.pyplot as plt\n",
    "import seaborn as sns\n",
    "import matplotlib.colors as mcolors\n",
    "# Inital setting for plot\n",
    "from matplotlib import rcParams\n",
    "with plt.rc_context({\"figure.figsize\": (8, 8), \"figure.dpi\": (300)}):\n",
    "    for key, item in emb_dict.items():\n",
    "        print(key)\n",
    "        if key == \"all\":\n",
    "            sc.pl.umap(item, color = \"subpopulations\")\n",
    "        elif key == \"dmso_only\":\n",
    "            sc.pl.umap(item, color = \"leiden_v4_r0.4\")\n",
    "        else:\n",
    "            sc.pl.umap(item, color = \"Metadata_cmpdNameConc\")\n",
    "        "
   ]
  },
  {
   "cell_type": "code",
   "execution_count": null,
   "metadata": {},
   "outputs": [],
   "source": [
    "import scanpy as sc\n",
    "import matplotlib.pyplot as plt\n",
    "import numpy as np\n",
    "\n",
    "def plot_umap_grid_colored(anndata_dict, color_by, n_cols=3):\n",
    "    \"\"\"\n",
    "    Create a grid of UMAP plots from a dictionary of AnnData objects, colored by a specified column.\n",
    "    \n",
    "    Parameters:\n",
    "    anndata_dict (dict): A dictionary of AnnData objects.\n",
    "    color_by (str): Column name to color by.\n",
    "    n_cols (int): Number of columns in the grid.\n",
    "    \"\"\"\n",
    "    # Determine all unique categories across all AnnData objects\n",
    "    anndata_dict = {k: v for k, v in anndata_dict.items() if k != 'all'}\n",
    "    all_categories = set()\n",
    "    for adata in anndata_dict.values():\n",
    "        all_categories.update(adata.obs[color_by].astype(str))\n",
    "\n",
    "    # Sort categories for consistent ordering and create color palette\n",
    "    sorted_categories = sorted(list(all_categories))\n",
    "    color_palette = sc.pl.palettes.default_20 # Use any large enough palette or define your own\n",
    "    color_map = {cat: color_palette[i % len(color_palette)] for i, cat in enumerate(sorted_categories)}\n",
    "    #color_map = {'big_dmso': '#1f77b4', 'small_dmso': '#ff7f0e', 'small_FLUP': '#279e68', 'big_FLUP': '#d62728', 'big_ETOP': '#aa40fc', 'small_ETOP': '#8c564b', 'big_TETR': '#e377c2', 'small_TETR': '#b5bd61', 'small_CA-O': '#17becf', 'big_CA-O': '#aec7e8', 'unassigned': '#ffbb78', 'BERB': '#98df8a', 'FEB': '#ff9896'}\n",
    "    print(color_map)\n",
    "    # Set up the figure for subplots\n",
    "    n_rows = int(np.ceil(len(anndata_dict) / n_cols))\n",
    "    fig, axs = plt.subplots(n_rows, n_cols, figsize=(5 * n_cols, 5 * n_rows))\n",
    "    axs = axs.flatten()  # Flatten to make indexing axs easier\n",
    "\n",
    "    all_handles = []\n",
    "    all_labels = set()\n",
    "    \n",
    "    # Plot UMAP for each AnnData object\n",
    "    for ax, (key, adata) in zip(axs, anndata_dict.items()):\n",
    "        sc.pl.umap(adata, color=color_by, ax=ax, show=False, \n",
    "                   title=key, frameon=False,\n",
    "                   palette=color_map,\n",
    "                   legend_loc = \"none\")  # Apply the consistent color map\n",
    "\n",
    "        handles, labels = ax.get_legend_handles_labels()\n",
    "        all_handles.extend(handles)\n",
    "        all_labels.update(labels)\n",
    "        # Remove axis titles (optional, for cleaner look)\n",
    "        ax.set_xlabel('')\n",
    "        ax.set_ylabel('')\n",
    "\n",
    "    # Hide any extra axes\n",
    "    for i in range(len(anndata_dict), len(axs)):\n",
    "        axs[i].axis('off')\n",
    "\n",
    "    # Create an overall title\n",
    "    plt.suptitle('UMAP Grid', fontsize=16)\n",
    "\n",
    "    # Add a single legend outside the plots\n",
    "    # Get handles and labels for legend from the last plot\n",
    "    handles, labels = ax.get_legend_handles_labels()\n",
    "    fig.legend(handles, labels, loc='lower center', ncol=3, bbox_to_anchor=(0.5, 0.01))\n",
    "\n",
    "    plt.tight_layout(rect=[0, 0.03, 1, 0.95])\n",
    "    plt.show()\n",
    "\n",
    "# Example usage:\n",
    "with plt.rc_context({\"figure.figsize\": (15, 15), \"figure.dpi\": (300)}):\n",
    "    plot_umap_grid_colored(emb_dict, \"Metadata_cmpdNameConc\")\n"
   ]
  },
  {
   "cell_type": "code",
   "execution_count": null,
   "metadata": {},
   "outputs": [],
   "source": [
    "import scanpy as sc\n",
    "import matplotlib.pyplot as plt\n",
    "from matplotlib.lines import Line2D\n",
    "\n",
    "def plot_single_umap_colored(adata, color_by):\n",
    "    # Calculate the count of each category in the color_by column\n",
    "    category_counts = adata.obs[color_by].value_counts()\n",
    "\n",
    "    # Create a color palette\n",
    "    comps = adata.obs[color_by].unique()\n",
    "\n",
    "    # Sort categories for consistent ordering and create color palette\n",
    "    sorted_categories = sorted(list(comps))\n",
    "    color_palette = sc.pl.palettes.default_102 # Use any large enough palette or define your own\n",
    "    color_map = {cat: color_palette[i % len(color_palette)] for i, cat in enumerate(sorted_categories)}\n",
    "    #color_map = {'big_dmso': '#1f77b4', 'small_dmso': '#ff7f0e', 'small_FLUP': '#279e68', 'big_FLUP': '#d62728', 'big_ETOP': '#aa40fc', 'small_ETOP': '#8c564b', 'big_TETR': '#e377c2', 'small_TETR': '#b5bd61', 'small_CA-O': '#17becf', 'big_CA-O': '#aec7e8', 'unassigned': '#ffbb78', 'BERB': '#98df8a', 'FEB': '#ff9896'}\n",
    "    #color_map = {'berb': '#1f77b4', 'cao': '#ff7f0e', 'dmso_big': '#279e68', 'dmso_small': '#d62728', 'etop_big': '#aa40fc', 'etop_nocluster': '#8c564b', 'etop_small': '#e377c2', 'fenb': '#b5bd61', 'flup': '#17becf', 'tetr_big': '#aec7e8', 'tetr_nocluster': '#ffbb78'}\n",
    "    # Create figure and axis for UMAP plot\n",
    "    fig, ax = plt.subplots(figsize=(8, 6))  # Adjust figure size as needed\n",
    "\n",
    "    # Create UMAP plot\n",
    "    sc.pl.umap(adata, color=color_by, ax=ax, show=False,\n",
    "               title=f'UMAP colored by {color_by}', \n",
    "               frameon=False, legend_loc='none', \n",
    "               palette=color_map, s = 2)\n",
    "\n",
    "    # Create a custom legend for all categories with counts\n",
    "    legend_elements = [Line2D([0], [0], marker='o', color='w',\n",
    "                              label=f\"{cat} (n={category_counts[cat]})\",\n",
    "                              markerfacecolor=color_map[cat], markersize=10)\n",
    "                       for cat in category_counts.index]\n",
    "\n",
    "    # Place legend outside the plot to the right\n",
    "    ax.legend(handles=legend_elements, title=color_by, loc='center left',\n",
    "              bbox_to_anchor=(1, 0.5), ncol=1, fontsize='x-small')\n",
    "\n",
    "    plt.tight_layout(rect=[0, 0, 0.85, 1])  # Adjust the rect parameter to make space for the legend\n",
    "    plt.show()\n",
    "\n",
    "with plt.rc_context({\"figure.figsize\": (15, 15), \"figure.dpi\": (300)}):\n",
    "    plot_single_umap_colored(emb_dict[\"dmso_only\"], \"leiden_v4_r0.4\")"
   ]
  },
  {
   "cell_type": "markdown",
   "metadata": {},
   "source": [
    "## Custom plots"
   ]
  },
  {
   "cell_type": "code",
   "execution_count": null,
   "metadata": {},
   "outputs": [],
   "source": [
    "import pandas as pd\n",
    "import seaborn as sns\n",
    "import matplotlib.pyplot as plt\n",
    "import datetime\n",
    "\n",
    "def make_jointplot_anndata(adata, dmso_name, colouring, cmpd, save_path=None):\n",
    "    # Extract UMAP data from .obsm\n",
    "    umap_data = pd.DataFrame(adata.obsm['X_umap'], columns=['UMAP1', 'UMAP2']).reset_index()\n",
    "\n",
    "    # Join with metadata from .obs\n",
    "    embedding = pd.concat([umap_data,pd.DataFrame(adata.obs).reset_index()], axis = 1)\n",
    "    embedding = embedding.reset_index()\n",
    "    embedding[\"Metadata_cmpdNameConc2\"] = embedding[\"Metadata_cmpdName\"].astype(str) + \"_\" + embedding[\"Metadata_cmpdConc\"].astype(str)\n",
    "    # Generate a color palette based on unique values in the colouring column\n",
    "    unique_treatments = embedding[colouring].unique()\n",
    "    palette = sns.color_palette(\"Set2\", len(unique_treatments))\n",
    "    color_map = dict(zip(unique_treatments, palette))\n",
    "    # Adjust colors and transparency if colouring is 'Metadata_cmpdName'\n",
    "\n",
    "    embedding[colouring] = embedding[colouring].astype(str)\n",
    "\n",
    "# Adjust colors and transparency if colouring is 'Metadata_cmpdName'\n",
    "    if colouring == colouring:\n",
    "        if dmso_name in color_map:\n",
    "            color_map[dmso_name] = 'lightgrey'\n",
    "\n",
    "    def get_size(val):\n",
    "        return 10 if val != dmso_name else 3\n",
    "    \n",
    "    embedding['color'] = embedding[colouring].apply(lambda x: color_map.get(x, \"default_color\"))\n",
    "    #embedding['color'] = embedding[colouring].map(color_map)\n",
    "    embedding['size'] = embedding[colouring].apply(get_size)\n",
    "    \n",
    "    # Increase the DPI for displaying\n",
    "    plt.rcParams['figure.dpi'] = 300\n",
    "    \n",
    "    # Create the base joint plot\n",
    "    g = sns.JointGrid(x='UMAP1', y='UMAP2', data=embedding, height=10)\n",
    "\n",
    "    unique_treatments = list(unique_treatments)\n",
    "    index = unique_treatments.index(dmso_name)\n",
    "\n",
    "# Remove the element from its current position and insert it at index 0\n",
    "    if index != 0:\n",
    "        unique_treatments.insert(0, unique_treatments.pop(index))\n",
    "    # Plot KDE plots for each category\n",
    "    for treatment in unique_treatments:\n",
    "        subset = embedding[embedding[colouring] == treatment]\n",
    "        \n",
    "        sns.kdeplot(x=subset[\"UMAP1\"], ax=g.ax_marg_x, fill=True, color=color_map[treatment], legend=False)\n",
    "        sns.kdeplot(y=subset[\"UMAP2\"], ax=g.ax_marg_y, fill=True, color=color_map[treatment], legend=False)\n",
    "\n",
    "    # Plot the scatter plots\n",
    "    for treatment in unique_treatments:\n",
    "        subset = embedding[embedding[colouring] == treatment]\n",
    "        alpha_val = 0.3 if treatment == dmso_name and colouring == 'Metadata_cmpdName' else 0.8\n",
    "        g.ax_joint.scatter(subset[\"UMAP1\"], subset[\"UMAP2\"], c=subset['color'], s=subset['size'], label=treatment, alpha=alpha_val, edgecolor='white', linewidth=0.5)\n",
    "    \n",
    "    g.ax_joint.set_title(cmpd)\n",
    "    #legend = g.ax_joint.legend(fontsize=10)\n",
    "    #legend.get_frame().set_facecolor('white')\n",
    "    legend_elements = [Line2D([0], [0], marker='o', linestyle= \"None\", color=color_map[treatment], label=treatment, markersize=5, markerfacecolor=color_map[treatment], alpha=1) for treatment in unique_treatments]\n",
    "    #legend = g.ax_joint.legend(handles=legend_elements, fontsize=10, title=colouring)\n",
    "    legend.get_frame().set_facecolor('white')\n",
    "    \n",
    "    if save_path != None:\n",
    "        current_time = datetime.datetime.now()\n",
    "        timestamp = current_time.strftime(\"%Y%m%d_%H%M%S\")\n",
    "        g.savefig(f\"{save_path}.png\", dpi=300)\n",
    "\n",
    "    plt.show()\n",
    "\n",
    "# Usage"
   ]
  },
  {
   "cell_type": "code",
   "execution_count": null,
   "metadata": {},
   "outputs": [],
   "source": [
    "make_jointplot_anndata(adata_filtered, 'DIMETHYL SULFOXIDE', 'Metadata_cmpdName', \"\")"
   ]
  },
  {
   "cell_type": "code",
   "execution_count": null,
   "metadata": {},
   "outputs": [],
   "source": [
    "for key, value in emb_dict.items():\n",
    "    if key != \"all\":\n",
    "        emb_dict[key].obs[\"Metadata_cmpdName\"] = emb_dict[key].obs[\"Metadata_cmpdName\"].astype(str)\n",
    "        emb_dict[key].obs[\"compound_id\"] = emb_dict[key].obs[\"compound_id\"].astype(str)\n",
    "        nan_string_indices = emb_dict[key].obs[\"Metadata_cmpdName\"]== 'nan'\n",
    "        emb_dict[key].obs.loc[nan_string_indices, \"Metadata_cmpdName\"] = emb_dict[key].obs.loc[nan_string_indices, 'compound_id']\n",
    "        make_jointplot_anndata(emb_dict[key], 'DIMETHYL SULFOXIDE_0.1', 'Metadata_cmpdNameConc2', key, save_path= f\"/home/jovyan/share/data/analyses/benjamin/cellxgene/deepprofiler/BEACTICA/figures/sc_dmso_{key}_umap.png\")"
   ]
  },
  {
   "cell_type": "code",
   "execution_count": null,
   "metadata": {},
   "outputs": [],
   "source": [
    "from scipy import stats\n",
    "import numpy as np\n",
    "def make_jointplot_seaborn_density_anndata(adata, colouring, dmso_name, cmpd, save_path = None, overlay=False, overlay_df=None):\n",
    "    \n",
    "    umap_data = pd.DataFrame(adata.obsm['X_umap'], columns=['UMAP1', 'UMAP2']).reset_index()\n",
    "    embedding = pd.concat([umap_data,pd.DataFrame(adata.obs).reset_index()], axis = 1)\n",
    "    embedding = embedding.reset_index()\n",
    "    embedding[\"Metadata_cmpdNameConc2\"] = embedding[\"Metadata_cmpdName\"].astype(str) + \"_\" + embedding[\"Metadata_cmpdConc\"].astype(str)\n",
    "\n",
    "\n",
    "    def get_color(val):\n",
    "        if dmso_name in val:\n",
    "            return \"lightgrey\"\n",
    "        else:\n",
    "            return \"#e96565\"  # This color will be overridden for non-[DMSO] treatments\n",
    "    \n",
    "    def get_size(val):\n",
    "        return 10 if val != dmso_name else 3\n",
    "    \n",
    "    embedding['color'] = embedding[colouring].apply(get_color)\n",
    "    embedding['size'] = embedding[colouring].apply(get_size)\n",
    "\n",
    "    all_treatments = list(embedding[colouring].unique())\n",
    "    sorted_treatments = all_treatments.copy()\n",
    "    specific_value = dmso_name\n",
    "    if specific_value in sorted_treatments:\n",
    "        sorted_treatments.remove(specific_value)\n",
    "    sorted_treatments.insert(0, specific_value)\n",
    "\n",
    "    g = sns.JointGrid(x='UMAP1', y='UMAP2', data=embedding, height=10)\n",
    "\n",
    "    #cmap = plt.cm.viridis\n",
    "    cmap = plt.cm.jet\n",
    "    norm = plt.Normalize(vmin=0, vmax=1)\n",
    "    sm = plt.cm.ScalarMappable(cmap=cmap, norm=norm)\n",
    "    sm.set_array([])\n",
    "\n",
    "    is_dmso_only = len(all_treatments) == 1 and all_treatments[0] == dmso_name\n",
    "\n",
    "    for treatment in sorted_treatments:\n",
    "        subset = embedding[embedding[colouring] == treatment]\n",
    "        \n",
    "        if is_dmso_only:\n",
    "            values = np.vstack([subset[\"UMAP1\"], subset[\"UMAP2\"]])\n",
    "            kernel = stats.gaussian_kde(values)(values)\n",
    "            colors = cmap(kernel)\n",
    "\n",
    "            # Plot KDE for x and y axes\n",
    "            sns.kdeplot(x=subset[\"UMAP1\"], ax=g.ax_marg_x, fill=True, color=colors.mean(axis=0), legend=False)\n",
    "            sns.kdeplot(y=subset[\"UMAP2\"], ax=g.ax_marg_y, fill=True, color=colors.mean(axis=0), legend=False)\n",
    "\n",
    "            # Scatter plot with density color\n",
    "            g.ax_joint.scatter(subset[\"UMAP1\"], subset[\"UMAP2\"], c=kernel, s=subset['size'], cmap=cmap, label=f\"{treatment} - {len(subset)} cells\", alpha=0.7, edgecolor='white', linewidth=0.5)\n",
    "        \n",
    "        else:\n",
    "            if treatment != dmso_name:\n",
    "                # Calculate density for non-[DMSO] treatments\n",
    "                values = np.vstack([subset[\"UMAP1\"], subset[\"UMAP2\"]])\n",
    "                kernel = stats.gaussian_kde(values)(values)\n",
    "                colors = cmap(kernel)\n",
    "\n",
    "                # Plot KDE for x and y axes\n",
    "                sns.kdeplot(x=subset[\"UMAP1\"], ax=g.ax_marg_x, fill=True, color=colors.mean(axis=0), legend=False)\n",
    "                sns.kdeplot(y=subset[\"UMAP2\"], ax=g.ax_marg_y, fill=True, color=colors.mean(axis=0), legend=False)\n",
    "\n",
    "                # Scatter plot with density color\n",
    "                g.ax_joint.scatter(subset[\"UMAP1\"], subset[\"UMAP2\"], c=kernel, s=subset['size'], cmap=cmap, label=f\"{treatment} - {len(subset)} cells\", alpha=0.7, edgecolor='white', linewidth=0.5)\n",
    "            else:\n",
    "                # Plot for [DMSO] treatment\n",
    "                sns.kdeplot(x=subset[\"UMAP1\"], ax=g.ax_marg_x, fill=True, color='lightgrey', legend=False)\n",
    "                sns.kdeplot(y=subset[\"UMAP2\"], ax=g.ax_marg_y, fill=True, color='lightgrey', legend=False)\n",
    "                g.ax_joint.scatter(subset[\"UMAP1\"], subset[\"UMAP2\"], c='lightgrey', s=subset['size'], label=f\"{treatment} - {len(subset)} cells\", alpha=0.7, edgecolor='white', linewidth=0.5)\n",
    "        # Overlay additional points if the option is active\n",
    "    \n",
    "    if overlay and overlay_df is not None:\n",
    "        overlay_df['color'] = overlay_df[colouring].apply(get_color)\n",
    "        overlay_df['size'] = overlay_df[colouring].apply(lambda val: get_size(val) * 2)  \n",
    "        \n",
    "        for treatment in sorted_treatments:\n",
    "            subset = overlay_df[overlay_df[colouring] == treatment]\n",
    "            g.ax_joint.scatter(subset[\"UMAP1\"], subset[\"UMAP2\"], c=subset['color'], s=subset['size'], alpha=0.9, edgecolor='grey', linewidth=0.5)\n",
    "\n",
    "\n",
    "    fig = g.fig  # Get the figure of the JointGrid\n",
    "    cbar_ax = fig.add_axes([0.93, 0.1, 0.02, 0.7])  # Add axes for the colorbar\n",
    "\n",
    "    # Add colorbar to the figure, not the joint plot axes\n",
    "    cbar = fig.colorbar(sm, cax=cbar_ax)\n",
    "    cbar.set_label('Relative density', rotation=270, labelpad=15) \n",
    "\n",
    "    # Adjust the figure to make space for the colorbar\n",
    "    fig.subplots_adjust(right=0.9)\n",
    "\n",
    "    g.ax_joint.set_title(cmpd)\n",
    "    g.ax_joint.legend()\n",
    "    if save_path is not None:\n",
    "        plt.savefig(save_path, dpi = 300)\n",
    "    plt.show()"
   ]
  },
  {
   "cell_type": "code",
   "execution_count": null,
   "metadata": {},
   "outputs": [],
   "source": [
    "make_jointplot_seaborn_density_anndata(emb_dict[\"dmso_only\"], \"Metadata_cmpdName\", \"DIMETHYL SULFOXIDE\", \"\", save_path= \"/home/jovyan/share/data/analyses/benjamin/cellxgene/deepprofiler/BEACTICA/figures/dmso_density_umap.png\")"
   ]
  },
  {
   "cell_type": "code",
   "execution_count": null,
   "metadata": {},
   "outputs": [],
   "source": [
    "adata = ad.read(\"/home/jovyan/share/data/analyses/benjamin/cellxgene/sc_embedding_scanpy_Beactica_deep+cellcylce_grit_filtered.h5ad\")"
   ]
  },
  {
   "cell_type": "markdown",
   "metadata": {},
   "source": [
    "## Feature dist"
   ]
  },
  {
   "cell_type": "code",
   "execution_count": null,
   "metadata": {},
   "outputs": [],
   "source": [
    "def show_summary_stats(df):\n",
    "    features = df.columns\n",
    "\n",
    "# Plotting\n",
    "    plt.figure(figsize=(12,6))\n",
    "\n",
    "    # Mean line\n",
    "    plt.plot(features, df.loc['mean'], label='Mean', color='blue')\n",
    "\n",
    "    # 5th percentile line\n",
    "    plt.plot(features, df.loc['5%'], label='5th Percentile', color='green')\n",
    "\n",
    "    # 95th percentile line\n",
    "    plt.plot(features, df.loc['95%'], label='95th Percentile', color='red')\n",
    "\n",
    "    # Max values as dots\n",
    "    plt.scatter(features, df.loc['max'], color='black', label='Max', s=5)  # s is the size of points\n",
    "    plt.scatter(features, df.loc['min'], color='grey', label='Min', s=5)\n",
    "\n",
    "    # Labels and title\n",
    "    plt.xlabel('Features')\n",
    "    plt.ylabel('Values')\n",
    "    plt.title('Feature distributions')\n",
    "    plt.xticks([])  # Rotate feature names for readability\n",
    "\n",
    "    # Legend\n",
    "    plt.legend()\n",
    "\n",
    "    plt.tight_layout()  # Adjust layout\n",
    "    plt.show()"
   ]
  },
  {
   "cell_type": "code",
   "execution_count": null,
   "metadata": {},
   "outputs": [],
   "source": [
    "show_summary_stats(summary_features)"
   ]
  },
  {
   "cell_type": "code",
   "execution_count": null,
   "metadata": {},
   "outputs": [],
   "source": [
    "def plot_grouped_feature_statistics(df, group_column, feature_columns):\n",
    "    \"\"\"\n",
    "    Plot statistical summaries (mean, 5th, 95th percentiles, and max) of features for each group in the DataFrame.\n",
    "    \n",
    "    Parameters:\n",
    "    df (DataFrame): The original pandas DataFrame with data.\n",
    "    group_column (str): The name of the column to group by.\n",
    "    feature_columns (list): List of columns to calculate statistics on.\n",
    "    \"\"\"\n",
    "    # Grouping the DataFrame by the specified column\n",
    "    grouped = df.groupby(group_column)\n",
    "\n",
    "    # Determine the number of subplots needed\n",
    "    n_groups = len(grouped)\n",
    "    n_cols = 1  # You can adjust the number of columns per row\n",
    "    n_rows = int(np.ceil(n_groups / n_cols))\n",
    "\n",
    "    # Create a figure with subplots\n",
    "    fig, axes = plt.subplots(n_rows, n_cols, figsize=(15 * n_cols, 10 * n_rows), squeeze=False)\n",
    "    axes = axes.flatten()  # Flatten to 1D array for easy iteration\n",
    "\n",
    "    for i, (group_name, group_data) in enumerate(grouped):\n",
    "        # Calculating statistics for the group\n",
    "        mean = group_data[feature_columns].mean()\n",
    "        std = group_data[feature_columns].std()\n",
    "        min_val = group_data[feature_columns].min()\n",
    "        max_val = group_data[feature_columns].max()\n",
    "        percentile_5 = group_data[feature_columns].quantile(0.05)\n",
    "        percentile_95 = group_data[feature_columns].quantile(0.95)\n",
    "\n",
    "        # Plotting on the ith subplot\n",
    "        ax = axes[i]\n",
    "        ax.plot(feature_columns, mean, label='Mean', color='blue')\n",
    "        ax.plot(feature_columns, percentile_5, label='5th Percentile', color='green')\n",
    "        ax.plot(feature_columns, percentile_95, label='95th Percentile', color='red')\n",
    "\n",
    "\n",
    "        ax.set_title(f'Group: {group_name}')\n",
    "        ax.set_xticks([])  # Remove x-axis labels\n",
    "\n",
    "        if i == 0:  # Add legend to the first subplot as an example\n",
    "            ax.legend()\n",
    "\n",
    "    # Hide any unused subplots\n",
    "    for j in range(i+1, len(axes)):\n",
    "        axes[j].axis('off')\n",
    "\n",
    "    plt.tight_layout()\n",
    "    plt.show()\n",
    "\n",
    "plot_grouped_feature_statistics(grit_filter_df_sampled_pd, \"Metadata_cmpdName\", features_fixed)"
   ]
  },
  {
   "cell_type": "markdown",
   "metadata": {},
   "source": [
    "## Heatmap analysis"
   ]
  },
  {
   "cell_type": "code",
   "execution_count": null,
   "metadata": {},
   "outputs": [],
   "source": [
    "adata = ad.read(\"/home/jovyan/share/data/analyses/benjamin/cellxgene/sc_embedding_scanpy_Beactica_deep+cell_cellcycle2.h5ad\")\n",
    "adata_filtered = ad.read(\"/home/jovyan/share/data/analyses/benjamin/cellxgene/sc_embedding_scanpy_Beactica_deep+cellcylce_grit_filtered.h5ad\")"
   ]
  },
  {
   "cell_type": "code",
   "execution_count": null,
   "metadata": {},
   "outputs": [],
   "source": [
    "# Get the sorted indices\n",
    "\n",
    "sorted_indices = adata.obs[\"Metadata_cmpdName\"].sort_values().index\n",
    "\n",
    "# Reorder .X and .obs\n",
    "adata = adata[sorted_indices]"
   ]
  },
  {
   "cell_type": "code",
   "execution_count": null,
   "metadata": {},
   "outputs": [],
   "source": [
    "import anndata\n",
    "import numpy as np\n",
    "import scanpy as sc\n",
    "import scipy\n",
    "import seaborn as sns\n",
    "import matplotlib.colors as mcolors\n",
    "# Inital setting for plot\n",
    "import matplotlib.pyplot as plt\n",
    "from matplotlib import rcParams\n",
    "\n",
    "\n",
    "def plot_clipped_heatmap(adata, max_val=10, min_val=-10, genes=None, groupby=None):\n",
    "    \"\"\"\n",
    "    Plot a heatmap from clipped data of an AnnData object.\n",
    "\n",
    "    Parameters:\n",
    "    adata (AnnData): The original AnnData object.\n",
    "    max_val (float): Maximum value to clip data to.\n",
    "    min_val (float): Minimum value to clip data to.\n",
    "    genes (list): List of gene names to be plotted. They should match the var_names in adata.\n",
    "    groupby (str): Name of the observation annotation to group by (usually categorical).\n",
    "\n",
    "    Returns:\n",
    "    None: Displays a heatmap.\n",
    "    \"\"\"\n",
    "\n",
    "    # Step 1: Make a copy of the AnnData object to avoid overwriting original data\n",
    "    adata_copy = adata.copy()\n",
    "\n",
    "    # Step 2: Clip the data in the X matrix of the copied AnnData object\n",
    "    # Check if 'X' is dense or sparse and clip accordingly\n",
    "    if isinstance(adata_copy.X, np.ndarray):\n",
    "        adata_copy.X = np.clip(adata_copy.X, a_min=min_val, a_max=max_val)\n",
    "    elif isinstance(adata_copy.X, (scipy.sparse.csr_matrix, scipy.sparse.csc_matrix)):\n",
    "        adata_copy.X.data = np.clip(adata_copy.X.data, a_min=min_val, a_max=max_val)\n",
    "    else:\n",
    "        raise TypeError(\"adata.X must be a numpy array or a scipy sparse matrix.\")\n",
    "\n",
    "    rcParams[\"figure.figsize\"]  =(10,10)\n",
    "    # Step 3: Use scanpy's pl.heatmap function to visualize the clipped data\n",
    "    sc.pl.heatmap(adata_copy, var_names=genes, groupby=groupby, swap_axes= True, standard_scale = \"obs\")\n",
    "\n",
    "# Example usage\n",
    "# plot_clipped_heatmap(your_adata_object, max_val=10, min_val=-10, genes=your_genes_list, groupby='your_groupby_column')\n"
   ]
  },
  {
   "cell_type": "code",
   "execution_count": null,
   "metadata": {},
   "outputs": [],
   "source": [
    "with plt.rc_context({\"figure.figsize\": (8, 8), \"figure.dpi\": (300)}):\n",
    "    sc.pl.heatmap(emb_dict[\"all\"][emb_dict[\"all\"].obs[\"Metadata_cmpdName\"].isin(compounds + [\"DIMETHYL SULFOXIDE\"])], var_names=features_fixed, groupby=\"Metadata_cmpdName\", dendrogram= False, swap_axes= False, vmin = -3, vmax = 3, cmap='RdBu_r')"
   ]
  },
  {
   "cell_type": "code",
   "execution_count": null,
   "metadata": {},
   "outputs": [],
   "source": [
    "def aggregate_by_group(adata, group_by, additional_columns=None):\n",
    "    \"\"\"\n",
    "    Aggregate the expression data in an AnnData object by a specified group, retaining additional columns.\n",
    "\n",
    "    Parameters:\n",
    "    adata (AnnData): The original AnnData object.\n",
    "    group_by (str): The column in adata.obs to group by.\n",
    "    additional_columns (list of str, optional): List of additional columns to include in the output.\n",
    "\n",
    "    Returns:\n",
    "    AnnData: A new AnnData object with aggregated data and selected additional columns.\n",
    "    \"\"\"\n",
    "    # Ensure the group_by column is categorical for efficiency\n",
    "    adata.obs[group_by] = adata.obs[group_by].astype('category')\n",
    "    \n",
    "    if isinstance(adata.X, (np.ndarray, np.generic)):  # If .X is already a dense matrix\n",
    "        adata_df = pd.DataFrame(adata.X, columns=adata.var_names)\n",
    "    else:  # If .X is a sparse matrix\n",
    "        adata_df = pd.DataFrame(adata.X.toarray(), columns=adata.var_names)\n",
    "\n",
    "    # Group and aggregate data\n",
    "    adata_df[group_by] = adata.obs[group_by].values\n",
    "\n",
    "    # Aggregate data by taking the median for each group\n",
    "    aggregated_data = adata_df.groupby(group_by).median()\n",
    "\n",
    "    # Create a new AnnData object with the aggregated data\n",
    "    aggregated_adata = anndata.AnnData(X=aggregated_data.values, var=adata.var.copy())\n",
    "    aggregated_adata.obs[group_by] = aggregated_data.index.values\n",
    "\n",
    "    # Include additional columns from adata.obs\n",
    "    if additional_columns:\n",
    "        for column in additional_columns:\n",
    "            aggregated_adata.obs[column] = adata.obs.groupby(group_by)[column].first().values\n",
    "\n",
    "    return aggregated_adata"
   ]
  },
  {
   "cell_type": "code",
   "execution_count": null,
   "metadata": {},
   "outputs": [],
   "source": [
    "aggregated = aggregate_by_group(adata, \"Metadata_cmpdName\", [\"moa\"])"
   ]
  },
  {
   "cell_type": "code",
   "execution_count": null,
   "metadata": {},
   "outputs": [],
   "source": [
    "aggregated_filtered = aggregate_by_group(adata_filtered, \"Metadata_cmpdName\", [\"moa\"])"
   ]
  },
  {
   "cell_type": "code",
   "execution_count": null,
   "metadata": {},
   "outputs": [],
   "source": [
    "with plt.rc_context({\"figure.figsize\": (15, 20), \"figure.dpi\": (300), 'lines.linewidth': 1}):\n",
    "    sc.pl.heatmap(aggregated, dendrogram=True, var_names=features_fixed, groupby=\"Metadata_cmpdName\", swap_axes=True, vmin=-2, vmax=2, cmap='RdBu_r', show = True)"
   ]
  },
  {
   "cell_type": "code",
   "execution_count": null,
   "metadata": {},
   "outputs": [],
   "source": [
    "with plt.rc_context({\"figure.figsize\": (15, 20), \"figure.dpi\": (300), 'lines.linewidth': 1}):\n",
    "    sc.pl.correlation_matrix(adata, 'moa')"
   ]
  },
  {
   "cell_type": "code",
   "execution_count": null,
   "metadata": {},
   "outputs": [],
   "source": [
    "def create_heatmap_with_colorbar(adata, groupby_column, color_column, title=\"\", cmap='viridis', figsize=(10, 8), vmin=None, vmax=None):\n",
    "    \"\"\"\n",
    "    Create a heatmap from an aggregated AnnData object with specified labels on the y-axis and a color bar based on another column.\n",
    "\n",
    "    Parameters:\n",
    "    adata (AnnData): The aggregated AnnData object.\n",
    "    groupby_column (str): Column in adata.obs to use for y-axis labels.\n",
    "    color_column (str): Column in adata.obs to use for color mapping in the color bar.\n",
    "    title (str, optional): Title of the heatmap.\n",
    "    cmap (str, optional): Colormap for the heatmap.\n",
    "    figsize (tuple, optional): Size of the figure.\n",
    "    vmin, vmax (float, optional): Min and max values for colormap scaling.\n",
    "\n",
    "    Returns:\n",
    "    Heatmap plot with color bar\n",
    "    \"\"\"\n",
    "    # Ensure the label and color columns are present\n",
    "    if groupby_column not in adata.obs:\n",
    "        raise ValueError(f\"{groupby_column} not found in adata.obs\")\n",
    "    if color_column not in adata.obs:\n",
    "        raise ValueError(f\"{color_column} not found in adata.obs\")\n",
    "\n",
    "    adata.obs[color_column] = adata.obs[color_column].astype(str)\n",
    "    # Extract group labels and assign colors\n",
    "    color_labels = adata.obs[color_column].unique()\n",
    "    colors = sns.color_palette('Set1', len(color_labels))\n",
    "    # Create a color dictionary for the groups\n",
    "    color_dict = dict(zip(color_labels, colors))\n",
    "\n",
    "    # Convert the .X matrix to a DataFrame\n",
    "    data_df = pd.DataFrame(adata.X, index=adata.obs_names, columns=adata.var_names)\n",
    "    # Add the group column for color bar creation\n",
    "    data_df[groupby_column] = adata.obs[groupby_column]\n",
    "    # Add the color column for color mapping\n",
    "    data_df[color_column] = adata.obs[color_column]\n",
    "\n",
    "    # Creating the heatmap\n",
    "    plt.figure(figsize=figsize, dpi=300)\n",
    "    ax = sns.heatmap(data_df.drop(columns=[groupby_column, color_column]), cmap=cmap, annot=False, vmin=vmin, vmax=vmax)\n",
    "    plt.title(title)\n",
    "    plt.ylabel('')\n",
    "    plt.xlabel('')\n",
    "    plt.xticks([])  # Remove x-axis tick labels\n",
    "    \n",
    "    data_df = data_df.sort_values(by=groupby_column)\n",
    "\n",
    "    # Extract the unique labels for the groups in the order they appear in the sorted data\n",
    "    unique_labels = data_df[groupby_column].unique()\n",
    "\n",
    "    # Ensure the y-ticks positions are set to match the number of unique labels\n",
    "    ax.set_yticks(np.arange(len(unique_labels)) + 0.5)  # +0.5 to center the labels\n",
    "\n",
    "    # Set the y-tick labels with the unique labels\n",
    "    ax.set_yticklabels(unique_labels, rotation=0)\n",
    "\n",
    "    for i in range(data_df.shape[0] - 1):\n",
    "        ax.axhline(i + 1, color='grey', lw=0.5)\n",
    "    \n",
    "    color_mapping = adata.obs[color_column].map(color_dict)\n",
    "    for i, row in enumerate(data_df.index):\n",
    "        ax.add_patch(mpatches.Rectangle((-0.5, i), 5, 1, color=color_mapping[i]))\n",
    "    # Add lines around the plot\n",
    "    ax.axhline(0, color='black', lw=2)  # Top horizontal line\n",
    "    ax.axhline(data_df.shape[0], color='black', lw=2)  # Bottom horizontal line\n",
    "    ax.axvline(data_df.shape[1], color='black', lw=2) \n",
    "    xlim = ax.get_xlim()  # Get the current x-axis limits\n",
    "    ax.axvline(x=xlim[1], color='black', lw=2) \n",
    "\n",
    "    color_values = data_df[color_column].values\n",
    "    color_labels = data_df[color_column].values\n",
    "    unique_colors = [color_dict[label] for label in color_labels]\n",
    "\n",
    "    legend_labels = data_df[color_column].unique()\n",
    "    color_bar = [mpatches.Patch(color=color_dict[label], label=label) for label in legend_labels]\n",
    "\n",
    "    # Plot the color bar as a legend on the right side of the heatmap\n",
    "    ax_legend = ax.figure.add_axes([0.95, 0.15, 0.02, 0.7])\n",
    "    ax_legend.legend(handles=color_bar, title=color_column)\n",
    "    ax_legend.axis('off')\n",
    "    plt.savefig(f\"heatmap_aggregated_{groupby_column}.png\", dpi = 300)\n",
    "    plt.show()"
   ]
  },
  {
   "cell_type": "code",
   "execution_count": null,
   "metadata": {},
   "outputs": [],
   "source": [
    "create_heatmap_with_colorbar(aggregated, groupby_column= \"Metadata_cmpdName\", color_column= \"moa\", vmin = -2, vmax = 2, figsize=(20, 20), cmap= \"RdBu_r\")"
   ]
  },
  {
   "cell_type": "code",
   "execution_count": null,
   "metadata": {},
   "outputs": [],
   "source": [
    "create_heatmap_with_colorbar(aggregated_filtered, groupby_column= \"Metadata_cmpdName\", color_column= \"moa\", vmin = -2, vmax = 2, figsize=(20, 20), cmap= \"RdBu_r\")"
   ]
  },
  {
   "cell_type": "code",
   "execution_count": null,
   "metadata": {},
   "outputs": [],
   "source": [
    "import matplotlib.patches as mpatches\n",
    "import seaborn as sns\n",
    "import pandas as pd\n",
    "import numpy as np\n",
    "import matplotlib.pyplot as plt\n",
    "from scipy.cluster.hierarchy import linkage\n",
    "def create_clustermap_adata(adata, groupby_column, title=\"\", cmap='viridis', figsize=(15, 10), vmin=None, vmax=None, method='average', metric='euclidean'):\n",
    "    \"\"\"\n",
    "    Create a clustermap from an aggregated AnnData object with specified labels on the y-axis and a dendrogram for the rows.\n",
    "\n",
    "    Parameters:\n",
    "    adata (AnnData): The aggregated AnnData object.\n",
    "    groupby_column (str): Column in adata.obs to use for y-axis labels.\n",
    "    title (str, optional): Title of the heatmap.\n",
    "    cmap (str, optional): Colormap for the heatmap.\n",
    "    figsize (tuple, optional): Size of the figure.\n",
    "    vmin, vmax (float, optional): Min and max values for colormap scaling.\n",
    "    method (str, optional): Linkage method to use for clustering (e.g., 'average', 'single', 'complete').\n",
    "    metric (str, optional): Distance metric to use for clustering (e.g., 'euclidean', 'cityblock').\n",
    "\n",
    "    Returns:\n",
    "    Clustermap plot\n",
    "    \"\"\"\n",
    "    # Ensure the label column is present\n",
    "    if groupby_column not in adata.obs:\n",
    "        raise ValueError(f\"{groupby_column} not found in adata.obs\")\n",
    "\n",
    "    # Convert the .X matrix to a DataFrame\n",
    "    data_df = pd.DataFrame(adata.X, index=adata.obs_names, columns=adata.var_names)\n",
    "    # Add the group column for color bar creation\n",
    "    data_df[groupby_column] = adata.obs[groupby_column]\n",
    "    # Sort the DataFrame based on the groupby_column\n",
    "    data_df = data_df.sort_values(by=groupby_column)\n",
    "\n",
    "    # Use seaborn's clustermap function to draw the heatmap with dendrograms\n",
    "    # Note: The `row_cluster` parameter is set to True to cluster rows, `col_cluster` is set to False to avoid clustering columns\n",
    "    # The `row_linkage` parameter allows specifying custom linkage for rows, feel free to modify or remove it\n",
    "    row_linkage = linkage(data_df.drop(columns=[groupby_column]), method=method, metric=metric)\n",
    "    g = sns.clustermap(data_df.drop(columns=[groupby_column]), cmap=cmap, figsize=figsize, vmin=vmin, vmax=vmax, \n",
    "                       row_cluster=True, col_cluster=False, row_linkage=row_linkage,\n",
    "                       yticklabels=True, xticklabels=[])\n",
    "\n",
    "    # Rotate the yticklabels to horizontal\n",
    "    plt.setp(g.ax_heatmap.get_yticklabels(), rotation=0)\n",
    "    g.ax_heatmap.set_yticklabels(data_df[groupby_column], rotation=0)\n",
    "    # Set the title\n",
    "    plt.suptitle(title)\n",
    "\n",
    "    plt.show()"
   ]
  },
  {
   "cell_type": "code",
   "execution_count": null,
   "metadata": {},
   "outputs": [],
   "source": [
    "create_clustermap_adata(aggregated, \"Metadata_cmpdName\", figsize= (20,15), cmap = \"RdBu_r\", vmin = -2, vmax = 2)"
   ]
  },
  {
   "cell_type": "code",
   "execution_count": null,
   "metadata": {},
   "outputs": [],
   "source": [
    "from scipy.cluster import hierarchy\n",
    "def calc_correlation_matrix(adata, col, layer, plot = False):\n",
    "    # Choose the data representation ('X' for the main matrix, 'X_pca' for PCA)\n",
    "\n",
    "    # Aggregate the data by the grouping variable\n",
    "    if layer == 'X':\n",
    "        data_matrix = adata.X\n",
    "    elif layer == 'X_pca':\n",
    "        data_matrix = adata.obsm['X_pca']\n",
    "\n",
    "    # Convert the data to a DataFrame for easier manipulation\n",
    "    df = pd.DataFrame(data_matrix, index=adata.obs_names)\n",
    "    df[col] = adata.obs[col]\n",
    "\n",
    "    # Group by the grouping variable and calculate the mean for each group\n",
    "    grouped = df.groupby(col).mean()\n",
    "    grouped_trans = grouped.T\n",
    "    # Calculate the correlation matrix from the grouped data\n",
    "    correlation_matrix = grouped_trans.corr()\n",
    "\n",
    "    if plot:\n",
    "        cmap = sns.diverging_palette(240, 10, sep=20, n=256, center=\"light\")        \n",
    "        plt.figure(figsize=(10, 8), dpi = 300)\n",
    "        g = sns.clustermap(correlation_matrix, annot=False, fmt=\".2f\", col_cluster=True, cmap='bwr', center = 0, square=True, cbar_pos=(1, .4, .03, .4))\n",
    "        plt.title('')\n",
    "        plt.xticks(rotation=45, ha='right')\n",
    "        plt.yticks(rotation=0)\n",
    "        plt.tight_layout()\n",
    "        plt.grid(which=\"minor\", color=\"black\", linestyle='-', linewidth=1)\n",
    "        plt.show()\n",
    "\n",
    "    else:\n",
    "        return correlation_matrix"
   ]
  },
  {
   "cell_type": "code",
   "execution_count": null,
   "metadata": {},
   "outputs": [],
   "source": [
    "def find_strongest_comps(corr_mat, N):\n",
    "    reference_group = 'DIMETHYL SULFOXIDE_0.1'\n",
    "\n",
    "# Get the correlations with the reference group\n",
    "    correlations_with_reference = corr_mat[reference_group]\n",
    "\n",
    "    # Sort the correlations to find the most dissimilar (i.e., those with the lowest correlation values)\n",
    "    most_dissimilar_groups = correlations_with_reference.sort_values(ascending=True)\n",
    "\n",
    "    top_n_dissimilar_groups = most_dissimilar_groups.head(N)\n",
    "    return top_n_dissimilar_groups\n"
   ]
  },
  {
   "cell_type": "code",
   "execution_count": null,
   "metadata": {},
   "outputs": [],
   "source": [
    "compound_correlations = calc_correlation_matrix(adata_filtered, \"Metadata_cmpdName\", \"X_pca\", plot = False)\n",
    "least_correlated_comps = find_strongest_comps(compound_correlations, 50)"
   ]
  }
 ],
 "metadata": {
  "kernelspec": {
   "display_name": "Python 3 (ipykernel)",
   "language": "python",
   "name": "python3"
  },
  "language_info": {
   "codemirror_mode": {
    "name": "ipython",
    "version": 3
   },
   "file_extension": ".py",
   "mimetype": "text/x-python",
   "name": "python",
   "nbconvert_exporter": "python",
   "pygments_lexer": "ipython3",
   "version": "3.7.17"
  }
 },
 "nbformat": 4,
 "nbformat_minor": 4
}
