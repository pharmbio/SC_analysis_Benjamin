{
 "cells": [
  {
   "cell_type": "code",
   "execution_count": null,
   "metadata": {},
   "outputs": [],
   "source": [
    "import scanpy as sc \n",
    "import anndata as ad\n",
    "import polars as pl\n",
    "import os\n",
    "import sys\n",
    "# Add the module_folder to the sys.path list\n",
    "sys.path.append('/home/jovyan/share/data/analyses/benjamin/Single_cell_project_rapids/analysis_functions/')\n",
    "from plotting import *"
   ]
  },
  {
   "cell_type": "code",
   "execution_count": null,
   "metadata": {},
   "outputs": [],
   "source": [
    "PROJECT_DIR = \"/home/jovyan/share/data/analyses/benjamin/Single_cell_project_rapids/Beactica\""
   ]
  },
  {
   "cell_type": "code",
   "execution_count": null,
   "metadata": {},
   "outputs": [],
   "source": [
    "filtered_anndata = ad.read(\"/home/jovyan/share/data/analyses/benjamin/cellxgene/Beactica/deepprofiler/sc_embedding_scanpy_Beactica_deep+cell_edist_segmfix3.h5ad\")"
   ]
  },
  {
   "cell_type": "code",
   "execution_count": null,
   "metadata": {},
   "outputs": [],
   "source": [
    "filtered_anndata.obs['moa_conc'] = filtered_anndata.obs['moa'].astype(str) + '_' + filtered_anndata.obs['Metadata_cmpdConc'].astype(str)"
   ]
  },
  {
   "cell_type": "markdown",
   "metadata": {},
   "source": [
    "## Compound densities"
   ]
  },
  {
   "cell_type": "code",
   "execution_count": null,
   "metadata": {},
   "outputs": [],
   "source": [
    "compounds = [\"NARCICLASINE\", \"BORTEZOMIB\", \"STAUROSPORINE\", \"DACTINOMYCIN (ACTINOMYCIN D)\", \"CISPLATIN\"]\n",
    "moas = list(filtered_anndata.obs[\"moa\"].unique())"
   ]
  },
  {
   "cell_type": "code",
   "execution_count": null,
   "metadata": {},
   "outputs": [],
   "source": [
    "adata.uns[\"umap_density_Metadata_cmpdNameConc_param\"]"
   ]
  },
  {
   "cell_type": "code",
   "execution_count": null,
   "metadata": {},
   "outputs": [],
   "source": [
    "for comp in top_comp:\n",
    "    adata = filtered_anndata[filtered_anndata.obs[\"Metadata_cmpdName\"].isin(['DIMETHYL SULFOXIDE', comp])]\n",
    "    sc.tl.embedding_density(adata, basis='umap', groupby='Metadata_cmpdNameConc')\n",
    "    sc.pl.embedding_density(adata, bg_dotsize = 40, fg_dotsize= 150, basis='umap', key='umap_density_Metadata_cmpdNameConc', save = f\"figures/{comp}_density_umap_conc_sign.png\")"
   ]
  },
  {
   "cell_type": "markdown",
   "metadata": {},
   "source": [
    "## E distance"
   ]
  },
  {
   "cell_type": "code",
   "execution_count": null,
   "metadata": {},
   "outputs": [],
   "source": [
    "from scperturb import *\n",
    "import pandas as pd"
   ]
  },
  {
   "cell_type": "code",
   "execution_count": null,
   "metadata": {},
   "outputs": [],
   "source": [
    "filtered_anndata = ad.read(\"/home/jovyan/share/data/analyses/benjamin/cellxgene/Beactica/deepprofiler/sc_embedding_scanpy_Beactica_deep+cell_edist_segmfix3.h5ad\")"
   ]
  },
  {
   "cell_type": "code",
   "execution_count": null,
   "metadata": {},
   "outputs": [],
   "source": [
    "estats = edist(filtered_anndata, obs_key='Metadata_cmpdName', obsm_key='X_pca', dist='sqeuclidean', n_jobs= -1)\n"
   ]
  },
  {
   "cell_type": "code",
   "execution_count": null,
   "metadata": {},
   "outputs": [],
   "source": [
    "from scipy.stats import zscore\n",
    "from scipy.cluster.hierarchy import distance, linkage, dendrogram\n",
    "from scipy.cluster import hierarchy\n",
    "\n",
    "def cluster_matrix(matrix, how='row', return_order=False, method='centroid'):\n",
    "    '''\n",
    "    Hierarchical clustering of a matrix/dataframe. `how` can be 'col', 'row' or 'both' (default: 'row').\n",
    "    '''\n",
    "    if how not in ['col', 'row', 'both']:\n",
    "        raise ValueError('Value for \"how\" must be row or col.')\n",
    "    if how!='both':\n",
    "        M = matrix if how=='row' else matrix.T\n",
    "        dist = distance.pdist(M)\n",
    "        link = linkage(dist, method=method)\n",
    "        dend = dendrogram(link, no_plot=True)\n",
    "        order = np.array(dend['leaves'], dtype=int)\n",
    "        if return_order:\n",
    "            return order\n",
    "        elif isinstance(matrix, pd.DataFrame):\n",
    "            return matrix.iloc[order] if how=='row' else matrix.iloc[:, order]\n",
    "        else:\n",
    "            return matrix[order] if how=='row' else matrix[:, order]\n",
    "    else:\n",
    "        if return_order:\n",
    "            warn('Returning order when clustering both row and col is not supported.')\n",
    "        matrix_ = cluster_matrix(matrix, how='row', return_order=False, method=method)\n",
    "        return cluster_matrix(matrix_, how='col', return_order=False, method=method)\n",
    "    "
   ]
  },
  {
   "cell_type": "code",
   "execution_count": null,
   "metadata": {},
   "outputs": [],
   "source": [
    "ed=estats\n",
    "\n",
    "with sns.axes_style('whitegrid'):\n",
    "    fig, ax  = plt.subplots(1, figsize=[20,20], dpi = 300)\n",
    "\n",
    "sns.heatmap(cluster_matrix(ed, \"both\"), robust=True, cmap = sns.cm.mako_r, xticklabels=True, yticklabels=True, ax=ax)\n",
    "ax.set_title('E-distance between Beactica perturbations')\n",
    "ax.set_xlabel('E-distance')\n",
    "ax.set_ylabel('E-distance')\n",
    "plt.savefig(\"figures/e_distance/e_dist_heatmap_grit_filtered.png\", dpi = 300)\n"
   ]
  },
  {
   "cell_type": "code",
   "execution_count": null,
   "metadata": {},
   "outputs": [],
   "source": [
    "with sns.axes_style('whitegrid'):\n",
    "    fig, ax  = plt.subplots(1, figsize=[20,20], dpi = 300)\n",
    "\n",
    "Z = hierarchy.linkage(ed, 'single')\n",
    "dn = hierarchy.dendrogram(Z, labels=ed.columns, color_threshold=800, ax=ax)\n",
    "plt.xticks(rotation=90)\n",
    "plt.grid(axis='y')\n",
    "plt.ylabel('E-distance')\n",
    "plt.xlabel('cell type')\n",
    "plt.title('Perturbations hierarchy based on e dist')\n",
    "plt.savefig(\"figures/e_distance/e_dist_dendogram_grit_filter_segmcorr.png\", dpi = 300)\n",
    "plt.show()"
   ]
  },
  {
   "cell_type": "markdown",
   "metadata": {},
   "source": [
    "## E test"
   ]
  },
  {
   "cell_type": "code",
   "execution_count": null,
   "metadata": {},
   "outputs": [],
   "source": [
    "etest_grit_all = pd.read_csv(\"etest_res_grit_filt_200_samples_100000_perms.csv\")"
   ]
  },
  {
   "cell_type": "code",
   "execution_count": null,
   "metadata": {},
   "outputs": [],
   "source": [
    "estats_control = pd.DataFrame(estats.loc[:, 'DIMETHYL SULFOXIDE'])\n",
    "estats_control.columns=['E-statistic']\n",
    "estats_control['tmp'] = np.log10(np.clip(estats_control['E-statistic'], 0, np.infty)+1)\n",
    "estats_control.reset_index(inplace=True)"
   ]
  },
  {
   "cell_type": "code",
   "execution_count": null,
   "metadata": {},
   "outputs": [],
   "source": [
    "estats_control.sort_values(\"tmp\")"
   ]
  },
  {
   "cell_type": "code",
   "execution_count": null,
   "metadata": {},
   "outputs": [],
   "source": [
    "e_dist_sign = pd.merge(estats_control, etest_grit_all, left_on = \"Metadata_cmpdName\", right_on = \"Unnamed: 0\", how = \"left\")"
   ]
  },
  {
   "cell_type": "code",
   "execution_count": null,
   "metadata": {},
   "outputs": [],
   "source": [
    "def e_dist_violin_sign(estats, condition, sign = False):\n",
    "    estats = estats[estats[\"Metadata_cmpdName\"] != \"DIMETHYL SULFOXIDE\"]\n",
    "    scale=0.75\n",
    "    with sns.axes_style('whitegrid'):\n",
    "        fig, ax = plt.subplots(figsize=[20*scale, 5*scale], dpi=300)\n",
    "    # np.log10(estats_control['E-statistic']+1)\n",
    "    sns.violinplot(data=estats, x='tmp', inner=None, color=\".8\", width=0.8, bw=0.5)\n",
    "    if sign:\n",
    "        ax = sns.swarmplot(data=estats, x=estats['tmp'], y=['']*len(estats), size=10, marker='$\\mathbf{\\odot}$',\n",
    "                    edgecolors='white', linewidth=0, hue = \"significant_adj\",palette=['tab:blue', 'tab:red', 'tab::orange'])\n",
    "        \n",
    "    else:\n",
    "        ax = sns.swarmplot(data=estats, x=estats['tmp'], y=['']*len(estats), size=10, marker='$\\mathbf{\\odot}$',\n",
    "                    edgecolors='white', linewidth=0, palette=['tab:blue', 'tab:red'])\n",
    "    plt.xlabel('E-distance+1 to unperturbed (log scale)')\n",
    "    ax.axvline(0, c='grey', linestyle='--', linewidth=4)\n",
    "    # log scale x ticks\n",
    "    from matplotlib import ticker as mticker\n",
    "    ax.xaxis.set_major_formatter(mticker.StrMethodFormatter(\"$10^{{{x:.0f}}}$\"))\n",
    "    xmin, xmax = ax.get_xlim()\n",
    "    tick_range = np.arange(0, xmax)\n",
    "    ax.xaxis.set_ticks(tick_range)\n",
    "    ax.xaxis.set_ticks([np.log10(x+1) for p in tick_range for x in np.linspace(10 ** p, 10 ** (p + 1), 10)], minor=True)\n",
    "    ax.set_xlim([-1, 5.5])\n",
    "    if sign:\n",
    "        plt.savefig(f'e_dist_violin_{condition}_sign_lev_nodead.png', bbox_inches='tight')\n",
    "    else:\n",
    "        plt.savefig(f'e_dist_violin_{condition}.png', bbox_inches='tight')\n",
    "    plt.show()"
   ]
  },
  {
   "cell_type": "code",
   "execution_count": null,
   "metadata": {},
   "outputs": [],
   "source": [
    "e_dist_violin_sign(e_dist_sign, \"full_grit\", sign = True)"
   ]
  },
  {
   "cell_type": "code",
   "execution_count": null,
   "metadata": {},
   "outputs": [],
   "source": [
    "e_dist_sign[e_dist_sign[\"significant_adj\"] == \"False\"]"
   ]
  },
  {
   "cell_type": "code",
   "execution_count": null,
   "metadata": {},
   "outputs": [],
   "source": [
    "def show_topn_comps(edist, estats, n, control):\n",
    "    etsats_sig = estats[estats[\"significant_adj\"] == \"True\"]\n",
    "    df_sorted = etsats_sig.sort_values(by=\"E-statistic\", ascending=False)\n",
    "    # Get top n values from target_column\n",
    "    top = df_sorted.head(n)[\"Metadata_cmpdName\"].tolist()\n",
    "    # Get bottom n values from target_column\n",
    "    bot= df_sorted.tail(n)[\"Metadata_cmpdName\"].tolist()\n",
    "    scale=0.3\n",
    "    plt.subplots(figsize=[13*scale,10*scale], dpi=300)\n",
    "    conds = [\"DIMETHYL SULFOXIDE\"] + bot + top\n",
    "    sub = edist.loc[conds, conds] + 1\n",
    "    sub = np.log10(np.clip(sub, 0, np.infty)+1)\n",
    "    sns.heatmap(sub, robust=False, linewidth=3)\n",
    "    plt.xticks(rotation=45, ha='right')\n",
    "    #plt.savefig(f'figures/e_distance/top_bot_{n}_cmpds_heatmap.png', bbox_inches='tight')\n",
    "    plt.show()\n",
    "    return top, bot"
   ]
  },
  {
   "cell_type": "code",
   "execution_count": null,
   "metadata": {},
   "outputs": [],
   "source": [
    "top_comp, bottom_comp = show_topn_comps(estats, e_dist_sign, 5, \"DIMETHYL SULFOXIDE\")"
   ]
  },
  {
   "cell_type": "code",
   "execution_count": null,
   "metadata": {},
   "outputs": [],
   "source": [
    "def run_edist_top_n(adata, cmpd_list, group):\n",
    "    filt_dat = adata[adata.obs[\"Metadata_cmpdName\"].isin(cmpd_list)]\n",
    "    e_stats = edist(filt_dat, obs_key=group, obsm_key='X_pca', dist='sqeuclidean', n_jobs= -1)\n",
    "    \n",
    "    return e_stats"
   ]
  },
  {
   "cell_type": "code",
   "execution_count": null,
   "metadata": {},
   "outputs": [],
   "source": [
    "top5_edist = run_edist_top_n(filtered_anndata, top_comp + [\"DIMETHYL SULFOXIDE\"], \"Metadata_cmpdNameConc\")"
   ]
  },
  {
   "cell_type": "code",
   "execution_count": null,
   "metadata": {},
   "outputs": [],
   "source": [
    "top5_edist"
   ]
  },
  {
   "cell_type": "code",
   "execution_count": null,
   "metadata": {},
   "outputs": [],
   "source": [
    "e_dist_violin(top5_edist, ctrl = \"DIMETHYL SULFOXIDE_0.1\", condition = None)"
   ]
  },
  {
   "cell_type": "code",
   "execution_count": null,
   "metadata": {},
   "outputs": [],
   "source": [
    "with sns.axes_style('whitegrid'):\n",
    "    fig, ax  = plt.subplots(1, figsize=[20,20], dpi = 300)\n",
    "\n",
    "sns.heatmap(cluster_matrix(top5_edist, \"both\"), robust=True, xticklabels=True, yticklabels=True, ax=ax)\n",
    "ax.set_title('E-distance between Beactica perturbations')\n",
    "ax.set_xlabel('E-distance')\n",
    "ax.set_ylabel('E-distance')\n",
    "#plt.savefig(\"figures/e_distance/e_dist_heatmap_top5_conc.png\", dpi = 300)\n"
   ]
  },
  {
   "cell_type": "code",
   "execution_count": null,
   "metadata": {},
   "outputs": [],
   "source": [
    "def edist_dose_response_curve(dist):\n",
    "    reference_row = dist['DIMETHYL SULFOXIDE_0.1']\n",
    "    reference_pd = pd.DataFrame(reference_row)\n",
    "    reference_pd = reference_pd.reset_index()\n",
    "    split_columns = reference_pd['Metadata_cmpdNameConc'].str.split('_', expand=True)\n",
    "\n",
    "    # Assign the split columns back to the original DataFrame\n",
    "    reference_pd['Treatment'] = split_columns[0]\n",
    "    reference_pd['Concentration'] = split_columns[1]\n",
    "    reference_pd = reference_pd[reference_pd[\"Treatment\"] != \"DIMETHYL SULFOXIDE\"]\n",
    "    # Convert 'Concentration' column to numeric\n",
    "    reference_pd['Concentration'] = pd.to_numeric(reference_pd['Concentration'])\n",
    "\n",
    "    data_for_plotting = reference_pd.rename(columns = {\"DIMETHYL SULFOXIDE_0.1\" : \"E-Distance\"})\n",
    "    # Step 3: Create a New DataFrame\n",
    "    # Step 4: Plot\n",
    "    plt.figure(figsize=(15, 10), dpi = 300)\n",
    "    sns.lineplot(data=data_for_plotting, x='Concentration', y='E-Distance', hue='Treatment', marker='o')\n",
    "    plt.title('E distance to DMSO')\n",
    "    plt.xlabel('Concentration')\n",
    "    plt.ylabel('E distance')\n",
    "    plt.legend(title='Treatment', bbox_to_anchor=(1.05, 1), loc='upper left')\n",
    "    plt.tight_layout()\n",
    "    #plt.savefig(\"figures/e_distance/top5_edist_dose_resp.png\")\n",
    "    plt.show()"
   ]
  },
  {
   "cell_type": "code",
   "execution_count": null,
   "metadata": {},
   "outputs": [],
   "source": [
    "edist_dose_response_curve(top5_edist)"
   ]
  },
  {
   "cell_type": "markdown",
   "metadata": {},
   "source": [
    "## Embedding only significant compounds"
   ]
  },
  {
   "cell_type": "code",
   "execution_count": null,
   "metadata": {},
   "outputs": [],
   "source": [
    "filtered_anndata.obs = filtered_anndata.obs.merge(e_dist_sign, left_on=\"Metadata_cmpdName\", right_on='Metadata_cmpdName', how='left')"
   ]
  },
  {
   "cell_type": "code",
   "execution_count": null,
   "metadata": {},
   "outputs": [],
   "source": [
    "filtered_anndata.obs['significant'] = filtered_anndata.obs['significant'].fillna(False)"
   ]
  },
  {
   "cell_type": "code",
   "execution_count": null,
   "metadata": {},
   "outputs": [],
   "source": [
    "filtered_anndata.obs[\"significant\"].unique()"
   ]
  },
  {
   "cell_type": "code",
   "execution_count": null,
   "metadata": {},
   "outputs": [],
   "source": [
    "filtered_anndata.write_h5ad(\"sc_embedding_scanpy_Beactica_deep+cell_edist.h5ad\")"
   ]
  },
  {
   "cell_type": "markdown",
   "metadata": {},
   "source": []
  }
 ],
 "metadata": {
  "kernelspec": {
   "display_name": "excellxgene_env",
   "language": "python",
   "name": "python3"
  },
  "language_info": {
   "codemirror_mode": {
    "name": "ipython",
    "version": 3
   },
   "file_extension": ".py",
   "mimetype": "text/x-python",
   "name": "python",
   "nbconvert_exporter": "python",
   "pygments_lexer": "ipython3",
   "version": "3.7.17"
  },
  "orig_nbformat": 4
 },
 "nbformat": 4,
 "nbformat_minor": 2
}
